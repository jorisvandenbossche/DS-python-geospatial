{
 "cells": [
  {
   "cell_type": "markdown",
   "metadata": {},
   "source": [
    "<p><font size=\"6\"><b>CASE - Argo Sea Floats</b></font></p>\n",
    "\n",
    "\n",
    "> *DS Python for GIS and Geoscience*  \n",
    "> *November, 2022*\n",
    ">\n",
    "> *© 2022, Joris Van den Bossche and Stijn Van Hoey. Licensed under [CC BY 4.0 Creative Commons](http://creativecommons.org/licenses/by/4.0/)*\n",
    "\n",
    "---"
   ]
  },
  {
   "cell_type": "code",
   "execution_count": null,
   "metadata": {},
   "outputs": [],
   "source": [
    "import numpy as np\n",
    "import pandas as pd\n",
    "import matplotlib.pyplot as plt\n",
    "\n",
    "import xarray as xr"
   ]
  },
  {
   "cell_type": "markdown",
   "metadata": {},
   "source": [
    "For this use case, we do a data exploration of the [Argo floats](https://argo.ucsd.edu/) data set, an international collaboration that collects high-quality temperature and salinity profiles from the upper 2000m of the ice-free global ocean and currents from intermediate depths.\n",
    "\n",
    "> Argo is an international program that collects information from inside the ocean using a fleet of robotic instruments that drift with the ocean currents and move up and down between the surface and a mid-water level. Each instrument (float) spends almost all its life below the surface.\n",
    "\n",
    "These data do __NOT represent full spatial coverage data__ (like remote sensing images), but measurements of salinity and temperature as a function of water `level` (related to the pressure). Each measurements happens at a given `date` on a given location (`lon`/`lat`)."
   ]
  },
  {
   "cell_type": "code",
   "execution_count": null,
   "metadata": {},
   "outputs": [],
   "source": [
    "import xarray as xr\n",
    "argo = xr.load_dataset(\"./data/argo_float.nc\")"
   ]
  },
  {
   "cell_type": "code",
   "execution_count": null,
   "metadata": {
    "jupyter": {
     "outputs_hidden": false
    }
   },
   "outputs": [],
   "source": [
    "argo"
   ]
  },
  {
   "cell_type": "markdown",
   "metadata": {},
   "source": [
    "__Note:__\n",
    "\n",
    "The bold font (or * symbol in plain text output version) in the coordinate representation above indicates that level and date are 'dimension coordinates' (they describe the coordinates associated with data variable axes) while 'lon' and 'lat' are 'non-dimension coordinates'. We can make any variable a non-dimension coordinate.\n",
    "\n",
    "The 'lon' and 'lat' coordinates are both linked to the `date` dimension, i.e. a measurement at a given `date` is done at a given location (`lon`/`lat`). As such, all data is contained in a single `xarray.DataSet`."
   ]
  },
  {
   "cell_type": "markdown",
   "metadata": {},
   "source": [
    "To get an overview, let's plot the coordinates of the available measurements and add a background map using [contextly](https://contextily.readthedocs.io/en/latest/index.html):"
   ]
  },
  {
   "cell_type": "code",
   "execution_count": null,
   "metadata": {
    "jupyter": {
     "outputs_hidden": false
    }
   },
   "outputs": [],
   "source": [
    "import contextily as cx\n",
    "from pyproj import CRS\n",
    "crs = CRS.from_epsg(4326)\n",
    "\n",
    "fig, ax = plt.subplots(figsize=(6, 6))\n",
    "argo.plot.scatter(x='lon', y='lat', ax=ax, color='red', s=2)\n",
    "\n",
    "# Custom adjustments of the limits, as we are in the middle of the ocean\n",
    "xmin, xmax = ax.get_xlim()\n",
    "ymin, ymax = ax.get_ylim()\n",
    "ax.set_xlim(xmin*1.5, xmax*0.5)\n",
    "ax.set_ylim(ymin*0.5, ymax*1.5)\n",
    "\n",
    "cx.add_basemap(ax, crs=crs.to_string())"
   ]
  },
  {
   "cell_type": "markdown",
   "metadata": {},
   "source": [
    "<div class=\"alert alert-success\">\n",
    "\n",
    "**EXERCISE**:\n",
    "\n",
    "Add a new variable to the `argo` data set, called `temperature_kelvin`, by converting the temperature to Kelvin. \n",
    "    \n",
    "$T_{K} = T_{^{\\circ}C} + 273.15$\n",
    "   \n",
    "<details>\n",
    "    \n",
    "<summary>Hints</summary>\n",
    "\n",
    "* Remember that xarray works as Numpy and relies on the same broadcasting rules.\n",
    "\n",
    "</details>    \n",
    "    \n",
    "</div>"
   ]
  },
  {
   "cell_type": "code",
   "execution_count": null,
   "metadata": {
    "tags": [
     "nbtutor-solution"
    ]
   },
   "outputs": [],
   "source": [
    "argo[\"temperature_kelvin\"] = argo[\"temperature\"] + 273.15"
   ]
  },
  {
   "cell_type": "markdown",
   "metadata": {},
   "source": [
    "<div class=\"alert alert-success\">\n",
    "\n",
    "**EXERCISE**:\n",
    "\n",
    "The water level classes define different water depth (level). The pressure is a proxy for the water depth. Verify the relationship between the pressure and the level using a scatter plot. Does a larger value for the level represent deeper water depths or not?\n",
    "    \n",
    "<details><summary>Hints</summary>\n",
    "\n",
    "* If you get the error `ValueError: Dataset.plot cannot be called directly. Use an explicit plot method, e.g. ds.plot.scatter(...)`. When encountering an Error, always check the output message at the end of the error statement.\n",
    "\n",
    "</details>    \n",
    "    \n",
    "</div>"
   ]
  },
  {
   "cell_type": "code",
   "execution_count": null,
   "metadata": {
    "jupyter": {
     "outputs_hidden": false
    },
    "tags": [
     "nbtutor-solution"
    ]
   },
   "outputs": [],
   "source": [
    "argo.plot.scatter(x=\"pressure\", y=\"level\")"
   ]
  },
  {
   "cell_type": "markdown",
   "metadata": {},
   "source": [
    "<div class=\"alert alert-success\">\n",
    "\n",
    "**EXERCISE**:\n",
    "\n",
    "Assume that buoyancy (in dutch _'drijfvermogen'_, it is the upward force exerted by a fluid that opposes the weight of a partially or fully immersed object) is defined by the following formula:\n",
    "    \n",
    "$$g \\cdot ( 2\\times 10^{-4} \\cdot T - 7\\times 10^{-4} \\cdot P )$$\n",
    "\n",
    "With:\n",
    "- $g$ = 9.8\n",
    "- $T$ = temperature\n",
    "- $P$ = pressure\n",
    "\n",
    "Calculate the buoyancy and add it as a new variable `buoyancy` to the `argo` data set. \n",
    "\n",
    "Make a 2D (image) plot with the x-axis the date, the y-axis the water level and the color intensity the buoyancy. As the level represents the depth of the water, it makes more sense to have 0 (surface) at the top of the y-axis: switch the y-axis direction.\n",
    "    \n",
    "<details><summary>Hints</summary>\n",
    "\n",
    "* $2\\times 10^{-4}$ can be written in Python as `2e-4`\n",
    "* Remember that xarray works as Numpy and relies on the same broadcasting rules.\n",
    "* The `imshow` method does not work on irregular intervals. Matplotlib and xarray also have `pcolormesh`.    \n",
    "* Look for options [in the xarray documentation](http://xarray.pydata.org/en/stable/plotting.html#other-axes-kwargs) to control the axis direction. (The `ax.invert_yaxis()` Matplotlib function is not supported for pcolormesh)\n",
    "    \n",
    "</details>    \n",
    "    \n",
    "</div>"
   ]
  },
  {
   "cell_type": "code",
   "execution_count": null,
   "metadata": {
    "tags": [
     "nbtutor-solution"
    ]
   },
   "outputs": [],
   "source": [
    "argo[\"buoyancy\"] = 9.8 * (2e-4 * argo[\"temperature\"] - 7e-4 * argo[\"pressure\"])"
   ]
  },
  {
   "cell_type": "code",
   "execution_count": null,
   "metadata": {
    "jupyter": {
     "outputs_hidden": false
    },
    "tags": [
     "nbtutor-solution"
    ]
   },
   "outputs": [],
   "source": [
    "argo[\"buoyancy\"].plot(yincrease=False)  # xarray decides the plot type when no specific method is used"
   ]
  },
  {
   "cell_type": "code",
   "execution_count": null,
   "metadata": {
    "jupyter": {
     "outputs_hidden": false
    },
    "tags": [
     "nbtutor-solution"
    ]
   },
   "outputs": [],
   "source": [
    "# More explicit version defining the x and y axis\n",
    "argo[\"buoyancy\"].plot.pcolormesh(x=\"date\", y=\"level\", yincrease=False)  # pcolormesh instead of imshow"
   ]
  },
  {
   "cell_type": "markdown",
   "metadata": {},
   "source": [
    "<div class=\"alert alert-success\">\n",
    "\n",
    "**EXERCISE**:\n",
    "\n",
    "Make a line plot of the salinity as a function of time at level 10\n",
    "   \n",
    "<details><summary>Hints</summary>\n",
    "\n",
    "Break it down into different steps and chain the individual steps:\n",
    "    \n",
    "* From the argo data set, select the variable `salinity`. This is similar to selecting a column in Pandas.\n",
    "* Next, use the `sel` method to select the `level=10`\n",
    "* Next, use the `plot.line()` method.\n",
    "\n",
    "</details>    \n",
    "    \n",
    "</div>"
   ]
  },
  {
   "cell_type": "code",
   "execution_count": null,
   "metadata": {
    "jupyter": {
     "outputs_hidden": false
    },
    "tags": [
     "nbtutor-solution"
    ]
   },
   "outputs": [],
   "source": [
    "argo[\"salinity\"].sel(level=10).plot.line()"
   ]
  },
  {
   "cell_type": "markdown",
   "metadata": {},
   "source": [
    "<div class=\"alert alert-success\">\n",
    "\n",
    "**EXERCISE**:\n",
    "\n",
    "- Make a line plot of the temperature as a function of time for the levels 10, 20 and 30 at the same graph \n",
    "- Make a second line plot with each of the 3 levels (10, 20, 30) in a different subplot. \n",
    "   \n",
    "<details><summary>Hints</summary>\n",
    "\n",
    "Break it down into different steps and chain these individual steps:\n",
    "    \n",
    "* From the argo data set, select the variable `temperature`. This is similar to selecting a column in Pandas.\n",
    "* Next, use the `sel` method to select the levels 10, 20 and 30.\n",
    "* Next, use the `plot.line()` method, but make sure the `hue` changes for each level\n",
    "    \n",
    "For the subplots, check the [facetting documentation](http://xarray.pydata.org/en/stable/plotting.html#faceting) of xarray. \n",
    "\n",
    "</details>    \n",
    "    \n",
    "</div>"
   ]
  },
  {
   "cell_type": "code",
   "execution_count": null,
   "metadata": {
    "jupyter": {
     "outputs_hidden": false
    },
    "tags": [
     "nbtutor-solution"
    ]
   },
   "outputs": [],
   "source": [
    "argo[\"temperature\"].sel(level=[10, 20, 30]).plot.line(hue=\"level\");"
   ]
  },
  {
   "cell_type": "code",
   "execution_count": null,
   "metadata": {
    "jupyter": {
     "outputs_hidden": false
    },
    "tags": [
     "nbtutor-solution"
    ]
   },
   "outputs": [],
   "source": [
    "argo[\"temperature\"].sel(level=[10, 20, 30]).plot.line(col=\"level\");"
   ]
  },
  {
   "cell_type": "markdown",
   "metadata": {},
   "source": [
    "<div class=\"alert alert-success\">\n",
    "\n",
    "**EXERCISE**:\n",
    "\n",
    "You wonder how the temperature evolves with increasing latitude and what the effect is of the depth (level):\n",
    "\n",
    "- Create a scatter plot of the `level` as a function of the `temperature` colored by the `latitude`. \n",
    "    \n",
    "- As a further exploration step, pick a subset of levels 1, 10, 25, and 50 and create a second scatter plot with in the x-axis the latitude of the measurement and in the y-axis the temperature. To compare the effect of the different levels, give each level a separate subplot next to each other.\n",
    "   \n",
    "<details><summary>Hints</summary>\n",
    "\n",
    "* In a scatter plot, the color or `hue` can be linked to a variable (instead of the deafult `date`).\n",
    "* From the argo data set, use the `sel` method to select the levels 1, 10, 25, and 50.\n",
    "* For the second scatter plot, but make sure the `col` changes for each `level` and define which variables need to go to which axis.\n",
    "\n",
    "</details>    \n",
    "    \n",
    "</div>"
   ]
  },
  {
   "cell_type": "code",
   "execution_count": null,
   "metadata": {
    "jupyter": {
     "outputs_hidden": false
    },
    "tags": [
     "nbtutor-solution"
    ]
   },
   "outputs": [],
   "source": [
    "argo.plot.scatter(x=\"temperature\", y=\"level\", s=3, hue=\"lat\")"
   ]
  },
  {
   "cell_type": "code",
   "execution_count": null,
   "metadata": {
    "jupyter": {
     "outputs_hidden": false
    },
    "tags": [
     "nbtutor-solution"
    ]
   },
   "outputs": [],
   "source": [
    "argo.sel(level=[1, 5, 25, 50]).plot.scatter(x=\"lat\", y=\"temperature\", col=\"level\")"
   ]
  },
  {
   "cell_type": "markdown",
   "metadata": {},
   "source": [
    "<div class=\"alert alert-success\">\n",
    "\n",
    "**EXERCISE**:\n",
    "\n",
    "Make an image plot of the temperature as a function of time. Divide the colormap in 3 discrete categories using xarray plot methods:\n",
    "    \n",
    "* x < 5\n",
    "* 5 < x < 15\n",
    "* x > 15\n",
    "    \n",
    "Choose a custom colormap and adjust the label of the colorbar to `'Temperature (°C)'`\n",
    "   \n",
    "<details>\n",
    "    \n",
    "<summary>Hints</summary>\n",
    "\n",
    "- Check the help of the `plot` function or the [xarray documentation](http://xarray.pydata.org/en/stable/plotting.html#discrete-colormaps) on discrete colormaps.\n",
    "- Adjustments to the colorbar settings can be defined with the `cbar_kwargs` as a dict. Adjust the `label` of the colorbar.    \n",
    "\n",
    "</details>    \n",
    "    \n",
    "</div>"
   ]
  },
  {
   "cell_type": "code",
   "execution_count": null,
   "metadata": {
    "jupyter": {
     "outputs_hidden": false
    },
    "tags": [
     "nbtutor-solution"
    ]
   },
   "outputs": [],
   "source": [
    "argo.temperature.plot.pcolormesh(yincrease=False, \n",
    "                                 cbar_kwargs={'label': 'Temperature (°C)'},\n",
    "                                 cmap='Reds',\n",
    "                                 levels=[5, 15]\n",
    "                                );"
   ]
  },
  {
   "cell_type": "markdown",
   "metadata": {},
   "source": [
    "<div class=\"alert alert-success\">\n",
    "\n",
    "**EXERCISE**:\n",
    "\n",
    "Plot a salinity profile, i.e. how the salinity evolves with the depth/level, for the measurement done at 2012-10-31. Add two lines to the plot:\n",
    "    \n",
    "- The salinity data of 2012-10-31 with the salinity in the x-axis and the level in the y-axis.\n",
    "- The salinity data of 2012-10-31 with the level in the y-axis, but using a rolling median value for the level coordinate using 10 levels (with `center=True` to make the two plots comparable) to smooth the data. \n",
    "    \n",
    "Feel free to adjust the settings of both lines (color, width,...)\n",
    "    \n",
    "<details><summary>Hints</summary>\n",
    "    \n",
    "* Use `fig, ax = plt.subplots()` to prepare a Figure/axes fo both lines.\n",
    "* The `rolling` method need to be applied to the `level` coordinate.\n",
    "* You can pass configuration options such as `linewidth`, `color`,... to the line plot method.\n",
    "* By adding `label` to the plots and remove the addition of a legend for each of the plots (`add_legend=False`), calling the `ax.legend()` method at the end will collect these labels into a single legend. \n",
    "\n",
    "</details>    \n",
    "    \n",
    "</div>"
   ]
  },
  {
   "cell_type": "code",
   "execution_count": null,
   "metadata": {
    "tags": [
     "nbtutor-solution"
    ]
   },
   "outputs": [],
   "source": [
    "salinity_20121031 = argo[\"salinity\"].sel(date='2012-10-31')\n",
    "\n",
    "fig, ax = plt.subplots(figsize=(6, 6))\n",
    "salinity_20121031.plot.line(y=\"level\", yincrease=False, color=\"grey\", add_legend=False, label=\"raw\");\n",
    "salinity_20121031.rolling(level=10, center=True).median().plot.line(y=\"level\", yincrease=False, linewidth=3, color=\"orange\", add_legend=False, label=\"smooth\");\n",
    "ax.legend()"
   ]
  },
  {
   "cell_type": "markdown",
   "metadata": {},
   "source": [
    "<div class=\"alert alert-success\">\n",
    "\n",
    "**EXERCISE**:\n",
    "\n",
    "An improved version of the salinity profile of the previous exercise uses the `pressure` data instead of the levels, plotting the pressure-salinity relationship. In the current data representation the pressure is a data variable. However, it can also be interpreted as a coordinate, i.e. the depth of the measurement (see exercise on the relation between pressure and level. \n",
    "    \n",
    "To create a salinity and temperature profile for each of the measurements in December 2012, convert the `pressure` variable to a coordinate instead of a data variable first. Prepare two subplots with Matplotlib to plot respectively the salinity and the temperature profile for each of the measurements in December 2012.  Use the pressure in the y-axis and make sure pressure increases from top to bottom of the graph.   \n",
    "    \n",
    "    \n",
    "<details><summary>Hints</summary>\n",
    "    \n",
    "* Use `assign_coords` to use the pressure as coordinate data.\n",
    "* Do not forget to select all measurements of December 2012, e.g. using the string representation `.sel(date='2012-12')`\n",
    "* You can directly create two axes objects with matplotlib: `fig, (ax0, ax1) = plt.subplots(1, 2)`\n",
    "</details>    \n",
    "    \n",
    "</div>"
   ]
  },
  {
   "cell_type": "code",
   "execution_count": null,
   "metadata": {
    "tags": [
     "nbtutor-solution"
    ]
   },
   "outputs": [],
   "source": [
    "argo_pressure = argo.assign_coords(pressure=argo[\"pressure\"]).sel(date='2012-12')\n",
    "\n",
    "fig, (ax0, ax1) = plt.subplots(1, 2, figsize=(12, 6))\n",
    "argo_pressure[\"salinity\"].plot.line(y=\"pressure\", yincrease=False, ax=ax0, hue='date');\n",
    "argo_pressure[\"temperature\"].plot.line(y=\"pressure\", yincrease=False, ax=ax1, hue='date');"
   ]
  },
  {
   "cell_type": "markdown",
   "metadata": {},
   "source": [
    "<div class=\"alert alert-success\">\n",
    "\n",
    "**EXERCISE**:\n",
    "\n",
    "Calculate the average salinity and temperature as a function of level over the measurements taken between 2012-10-01 and 2012-12-01. \n",
    "\n",
    "Make a separate line plot for each of them. Define the Figure and 2 subplots with Matplotlib first. \n",
    "    \n",
    "<details><summary>Hints</summary>\n",
    "\n",
    "* xarray supports to query dates using a string representation.\n",
    "* Use the `slice` operator within the `sel` to select a range of the data.\n",
    "* Whereas in Numpy we used `axis` in reduction functions, xarray uses the `dim` name.\n",
    "* Also for line plots you can define which dimension should be on the x-axis and which on the y-axis by providing the name.  \n",
    "* Use `fig, (ax0, ax1) = plt.subplots(1, 2)` to create subplots.\n",
    "</details>    \n",
    "    \n",
    "</div>"
   ]
  },
  {
   "cell_type": "code",
   "execution_count": null,
   "metadata": {
    "tags": [
     "nbtutor-solution"
    ]
   },
   "outputs": [],
   "source": [
    "subset_mean = argo.sel(date=slice('2012-10-01', '2012-12-01')).mean(dim=\"date\")"
   ]
  },
  {
   "cell_type": "code",
   "execution_count": null,
   "metadata": {
    "jupyter": {
     "outputs_hidden": false
    },
    "tags": [
     "nbtutor-solution"
    ]
   },
   "outputs": [],
   "source": [
    "fig, (ax0, ax1) = plt.subplots(1, 2)\n",
    "subset_mean[\"salinity\"].plot.line(y=\"level\", yincrease=False, ax=ax0)\n",
    "subset_mean[\"temperature\"].plot.line(y=\"level\", yincrease=False, ax=ax1)\n",
    "plt.tight_layout()"
   ]
  }
 ],
 "metadata": {
  "celltoolbar": "Nbtutor - export exercises",
  "kernelspec": {
   "display_name": "Python 3 (ipykernel)",
   "language": "python",
   "name": "python3"
  },
  "language_info": {
   "codemirror_mode": {
    "name": "ipython",
    "version": 3
   },
   "file_extension": ".py",
   "mimetype": "text/x-python",
   "name": "python",
   "nbconvert_exporter": "python",
   "pygments_lexer": "ipython3",
   "version": "3.10.6"
  },
  "widgets": {
   "application/vnd.jupyter.widget-state+json": {
    "state": {},
    "version_major": 2,
    "version_minor": 0
   }
  }
 },
 "nbformat": 4,
 "nbformat_minor": 4
}
