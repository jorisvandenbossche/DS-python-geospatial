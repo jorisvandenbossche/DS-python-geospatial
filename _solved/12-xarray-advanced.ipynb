{
 "cells": [
  {
   "cell_type": "markdown",
   "id": "37c046a3-39ce-4b51-9fb5-07a2d93d3fa2",
   "metadata": {},
   "source": [
    "<p><font size=\"6\"><b>Xarray advanced</b></font></p>\n",
    "\n",
    "\n",
    "> *DS Python for GIS and Geoscience*  \n",
    "> *September, 2024*\n",
    ">\n",
    "> *© 2024, Joris Van den Bossche and Stijn Van Hoey. Licensed under [CC BY 4.0 Creative Commons](http://creativecommons.org/licenses/by/4.0/)*\n",
    "\n",
    "---"
   ]
  },
  {
   "cell_type": "markdown",
   "id": "c4b0d759-b8e0-4950-b6b1-706edad1b1e2",
   "metadata": {},
   "source": [
    "Acknowledgments to the data service: https://cds.climate.copernicus.eu/cdsapp#!/dataset/reanalysis-era5-land-monthly-means?tab=overview"
   ]
  },
  {
   "cell_type": "code",
   "execution_count": null,
   "id": "7c2ad45b-1592-4128-a126-e984bfba1a4b",
   "metadata": {},
   "outputs": [],
   "source": [
    "import xarray as xr\n",
    "import numpy as np\n",
    "import matplotlib.pyplot as plt\n",
    "\n",
    "import cmocean\n",
    "\n",
    "%matplotlib inline"
   ]
  },
  {
   "cell_type": "markdown",
   "id": "1015efcc-929c-4bc5-9dfb-7805fd888a45",
   "metadata": {},
   "source": [
    "## `xarray.Dataset` for multiple variables"
   ]
  },
  {
   "cell_type": "markdown",
   "id": "e6ce0cd6-3a30-4085-ae16-0fd6083d6959",
   "metadata": {},
   "source": [
    "We already know `xarray.DataArray`, it is a single multi-dimensional array and each dimension can have a name and coordinate values. Next to the `DataArray`, `xarray` has a second main data structure to store arrays, i.e. `xarray.DataSet`. \n",
    "\n",
    "Let's read an xarray data set (global rain/temperature coverage stored in the file `2016-2017_global_rain-temperature.nc`), using the function `open_dataset`:"
   ]
  },
  {
   "cell_type": "code",
   "execution_count": null,
   "id": "47aa01dd-cf62-4312-9596-1f5a4ba7ff25",
   "metadata": {},
   "outputs": [],
   "source": [
    "ds = xr.open_dataset(\"./data/2016-2017_global_rain-temperature.nc\", engine=\"netcdf4\")\n",
    "ds"
   ]
  },
  {
   "cell_type": "markdown",
   "id": "d62db744-7f64-42e6-8e45-638b88421c53",
   "metadata": {},
   "source": [
    "<div class=\"alert alert-info\" style=\"font-size:120%\">\n",
    "\n",
    "**REMEMBER**: <br>\n",
    "\n",
    "xarray provides reading function for different formats with the `open_dataset` and `open_dataarray` functions. For GIS formats such as geotiff and other GDAL readable raster data, the rasterio engine (`engine=\"rasterio\"`) is available after the installation of [rioxarray](https://corteva.github.io/rioxarray/stable/). NetCDF-alike data formats can also be loaded using the `open_dataset()` function using a NetCDF-compatible engine, e.g. `netcdf` or `h5netcdf`. The netcdf-engine will be _guessed_ by default.\n",
    "\n",
    "</div>"
   ]
  },
  {
   "cell_type": "markdown",
   "id": "e586c171-c6d7-4f90-8f5b-df54089c7cfa",
   "metadata": {},
   "source": [
    "Let's take a closer look at this `xarray.Dataset`:\n",
    "\n",
    "- A `xarray.Dataset` is the second main data type provided by xarray\n",
    "- This example has 3 __dimensions__:\n",
    "    - `y`: the y coordinates of the data set\n",
    "    - `x`: the x coordinates of the data set\n",
    "    - `year`: the year coordinate of the data set\n",
    "- Each of these dimensions are defined by a __coordinate__ (1D) array\n",
    "- It has 2 __Data variables__: `precipitation` and `temperature` that both share the same coordinates\n",
    "\n",
    "Hence, a `Dataset` object stores *multiple* arrays that have shared dimensions (__Note:__ not all dimensions need to be shared).  It is designed as an in-memory representation of the data model from the netCDF file format.\n",
    "\n",
    "![](http://xarray.pydata.org/en/stable/_images/dataset-diagram.png)"
   ]
  },
  {
   "cell_type": "code",
   "execution_count": null,
   "id": "c0e48ee0-c828-4f80-a6c8-5428155bef01",
   "metadata": {},
   "outputs": [],
   "source": [
    "ds[\"temperature\"].shape, ds[\"temperature\"].dims"
   ]
  },
  {
   "cell_type": "markdown",
   "id": "72266de5-77e4-4b48-81fe-7388b7dff5b4",
   "metadata": {},
   "source": [
    "The data and coordinate variables are also contained separately in the `data_vars` and `coords` dictionary-like attributes of a `xarray.DataSet` to access them directly:\n",
    "\n",
    "- The data variables:"
   ]
  },
  {
   "cell_type": "code",
   "execution_count": null,
   "id": "2460b4e6-a5f1-40da-967d-325aa0287d4b",
   "metadata": {},
   "outputs": [],
   "source": [
    "ds.data_vars"
   ]
  },
  {
   "cell_type": "markdown",
   "id": "ddc9f07c-0d81-4aab-a753-da40f57aa735",
   "metadata": {},
   "source": [
    "- The data coordinates:"
   ]
  },
  {
   "cell_type": "code",
   "execution_count": null,
   "id": "a67e0be0-204b-4164-a6ed-9bc6eb34eaed",
   "metadata": {},
   "outputs": [],
   "source": [
    "ds.coords"
   ]
  },
  {
   "cell_type": "markdown",
   "id": "ccc8e94c-17ca-420a-a3aa-c7c71fa76636",
   "metadata": {},
   "source": [
    "If you rather use an alternative name for a given variable, use the `rename` method:"
   ]
  },
  {
   "cell_type": "code",
   "execution_count": null,
   "id": "bbfc46d8-e4b3-4cc4-bd83-769258548716",
   "metadata": {},
   "outputs": [],
   "source": [
    "ds.rename({\"precipitation\": \"rain\"})"
   ]
  },
  {
   "cell_type": "markdown",
   "id": "8efa9dcb-128e-4b01-987f-a970c7abe40f",
   "metadata": {},
   "source": [
    "__Note:__ _the renaming is not entirely correct as rain is just a part of all precipitation (see https://en.wikipedia.org/wiki/Precipitation)._"
   ]
  },
  {
   "cell_type": "markdown",
   "id": "d8e17106-8575-4f55-bb92-ab6c2d90a6c1",
   "metadata": {},
   "source": [
    "Adding new variables to the data set is very similar to Pandas/GeoPandas:"
   ]
  },
  {
   "cell_type": "code",
   "execution_count": null,
   "id": "6ff98dc0-737f-4e55-8c73-2f9b62f89749",
   "metadata": {},
   "outputs": [],
   "source": [
    "ds[\"precipitation_m\"] = ds[\"precipitation\"]/1000."
   ]
  },
  {
   "cell_type": "code",
   "execution_count": null,
   "id": "1c8aa29e-6d87-4ad8-80e7-a265bb683ca6",
   "metadata": {},
   "outputs": [],
   "source": [
    "ds"
   ]
  },
  {
   "cell_type": "markdown",
   "id": "035e068b-d776-4f13-93c6-c91929d8ce26",
   "metadata": {},
   "source": [
    "### Selecting `DataSet` data"
   ]
  },
  {
   "cell_type": "markdown",
   "id": "14cd95ad-d6fc-4685-a899-16084de71edb",
   "metadata": {},
   "source": [
    "Each of the data variables can be accessed as a single `xarray.DataArray` similar to selecting from dictionaries or columns from DataFrames:"
   ]
  },
  {
   "cell_type": "code",
   "execution_count": null,
   "id": "400bcda7-b4d8-4aa9-a4ef-7ab0158c1f28",
   "metadata": {},
   "outputs": [],
   "source": [
    "type(ds[\"precipitation\"]), type(ds[\"temperature\"])"
   ]
  },
  {
   "cell_type": "markdown",
   "id": "38951a5e-7515-4665-ad08-82cce47a75ac",
   "metadata": {},
   "source": [
    "One can select multiple variables at the same time as well by passing a list of variable names:"
   ]
  },
  {
   "cell_type": "code",
   "execution_count": null,
   "id": "e0e2ee9e-6882-4ddb-a01e-c7a64fae2c17",
   "metadata": {},
   "outputs": [],
   "source": [
    "ds[[\"temperature\", \"precipitation\"]]"
   ]
  },
  {
   "cell_type": "markdown",
   "id": "6c3db5d4-6fe9-4c54-9180-c90e75b4ed80",
   "metadata": {},
   "source": [
    "Or the other way around, use the `drop_vars` to drop variables from the data set:"
   ]
  },
  {
   "cell_type": "code",
   "execution_count": null,
   "id": "a114abfe-0950-4262-9e13-9ecd78ff6f49",
   "metadata": {},
   "outputs": [],
   "source": [
    "ds.drop_vars(\"temperature\")"
   ]
  },
  {
   "cell_type": "markdown",
   "id": "148ca2f1-14fb-4825-9c77-c761b275de66",
   "metadata": {},
   "source": [
    "<div class=\"alert alert-info\" style=\"font-size:120%\">\n",
    "\n",
    "**NOTE**: <br>\n",
    "\n",
    "Selecting a single variable using `[]` results into a `xarray.DataArray`, selecting multiple variables using a list `[[..., ...]]` results into a `xarray.DataSet`. Using `drop_vars` always returns a `xarray.DataSet`.\n",
    "\n",
    "</div>"
   ]
  },
  {
   "cell_type": "markdown",
   "id": "449e461c-b584-4e51-905a-eda5fd95e80a",
   "metadata": {},
   "source": [
    "The selection with `sel` works as well with `xarray.DataSet`, selecting the data _for all variables in the DataSet_ and returning a DataSet:"
   ]
  },
  {
   "cell_type": "code",
   "execution_count": null,
   "id": "07b43c50-8b78-4ee2-9b03-85526b98f5f7",
   "metadata": {},
   "outputs": [],
   "source": [
    "ds.sel(year=2016)"
   ]
  },
  {
   "cell_type": "markdown",
   "id": "7db298ec-66a7-46d8-ac7f-0cc6389e598e",
   "metadata": {},
   "source": [
    "The inverse of the `sel` method is the `drop_sel` which returns a DataSet with the enlisted indices removed:"
   ]
  },
  {
   "cell_type": "code",
   "execution_count": null,
   "id": "2e0c699f-da00-41e4-811c-a5efbe72f046",
   "metadata": {},
   "outputs": [],
   "source": [
    "ds.drop_sel(year=[2016])"
   ]
  },
  {
   "cell_type": "markdown",
   "id": "c4c20f29-fc0d-4743-9be7-a88ec04c8a96",
   "metadata": {},
   "source": [
    "### DataSet plotting"
   ]
  },
  {
   "cell_type": "markdown",
   "id": "8fa04333-e701-43cb-aaa3-217fda033ace",
   "metadata": {},
   "source": [
    "Plotting for data set level is rather limited. A typical use case that is supported to compare two data variables are scatter plots:"
   ]
  },
  {
   "cell_type": "code",
   "execution_count": null,
   "id": "c0a5372f-c674-42a2-bbbd-6162a17cd125",
   "metadata": {},
   "outputs": [],
   "source": [
    "ds.plot.scatter(x=\"temperature\", y=\"precipitation\", s=1, alpha=0.1, edgecolor=\"none\")"
   ]
  },
  {
   "cell_type": "markdown",
   "id": "79bf5a3c-d95e-4f35-8535-f7245c175cf0",
   "metadata": {},
   "source": [
    "`facetting` is also supported here, by linking the `col` or `row` parameter to a data variable."
   ]
  },
  {
   "cell_type": "code",
   "execution_count": null,
   "id": "c4423911-7fad-48b0-8790-3b4ea5566b70",
   "metadata": {},
   "outputs": [],
   "source": [
    "ds.plot.scatter(x=\"temperature\", y=\"precipitation\", s=1, alpha=0.1, col=\"year\", edgecolor=\"none\")  # try also hue=\"year\" instead of col; requires hue_style=\"discrete\""
   ]
  },
  {
   "cell_type": "markdown",
   "id": "a1be8b3c-2eee-42d8-9085-0affa62098f3",
   "metadata": {},
   "source": [
    "### DataSet reductions"
   ]
  },
  {
   "cell_type": "markdown",
   "id": "68c5401b-bf33-4d18-86f4-e0d20b5d2927",
   "metadata": {},
   "source": [
    "Datasets support arithmetic operations by automatically looping over all data variables and supports most of the same methods found on `xarray.DataArray`:"
   ]
  },
  {
   "cell_type": "code",
   "execution_count": null,
   "id": "0573e3b5-1260-44bf-ab12-245fbf2d12d9",
   "metadata": {},
   "outputs": [],
   "source": [
    "ds.mean()"
   ]
  },
  {
   "cell_type": "code",
   "execution_count": null,
   "id": "7012d2f1-094d-4493-8995-4d0f86d75e4d",
   "metadata": {},
   "outputs": [],
   "source": [
    "ds.max(dim=[\"x\", \"y\"])"
   ]
  },
  {
   "cell_type": "markdown",
   "id": "da29365a-b560-49e6-a357-5f0e78955363",
   "metadata": {},
   "source": [
    "__Note__ Using the names of the data variables (which is actually element-wise operations with DataArrays) makes a calculation very self-describing, e.g."
   ]
  },
  {
   "cell_type": "code",
   "execution_count": null,
   "id": "797f8990-f31f-4745-8d91-e120317de979",
   "metadata": {},
   "outputs": [],
   "source": [
    "(ds[\"temperature\"] * ds[\"precipitation\"]).sel(year=2016).plot.imshow()"
   ]
  },
  {
   "cell_type": "markdown",
   "id": "1382ea01-2c2c-43c6-819a-ba6e54e1640b",
   "metadata": {},
   "source": [
    "### Let's practice"
   ]
  },
  {
   "cell_type": "markdown",
   "id": "ef13ef35-d144-4cd7-ad8b-02763d44dd78",
   "metadata": {},
   "source": [
    "For the next set of exercises, we use the [ERA5-Land monthly averaged data](https://cds.climate.copernicus.eu/cdsapp#!/dataset/reanalysis-era5-land-monthly-means?tab=overview), provided by the ECMWF (European Centre for Medium-Range Weather Forecasts).\n",
    "\n",
    "> ERA5-Land is a reanalysis dataset providing a consistent view of the evolution of land variables over several decades. Reanalysis combines model data with observations from across the world into a globally complete and consistent dataset using the laws of physics. \n",
    "\n",
    "For these exercises, a subset of the data set focusing on Belgium has been prepared, containing the following variables:\n",
    "\n",
    "- `sf`: Snowfall (_m of water equivalent_)\n",
    "- `sp`: Surface pressure (_Pa_)\n",
    "- `t2m`: 2 metre temperature (_K_)\n",
    "- `tp`: Total precipitation (_m_)\n",
    "- `u10`: 10 metre U wind component (_m/s_)\n",
    "\n",
    "The dimensions are the `longitude`, `latitude` and `time`, which are each represented by a corresponding coordinate."
   ]
  },
  {
   "cell_type": "code",
   "execution_count": null,
   "id": "9c01ab8b-0c75-4992-8f7d-68759c1fb6b2",
   "metadata": {},
   "outputs": [],
   "source": [
    "era5 = xr.open_dataset(\"./data/era5-land-monthly-means_example.nc\") # engine=\"netcdf4\" is here optional\n",
    "era5"
   ]
  },
  {
   "cell_type": "markdown",
   "id": "724d816c-4f6b-4a8b-b9ba-34b13bff41b0",
   "metadata": {},
   "source": [
    "To get a feeling on the spatial subset of the data set for these exercises, the following code creates a cartopy map of the average temperature with country borders added:"
   ]
  },
  {
   "cell_type": "code",
   "execution_count": null,
   "id": "86c9a88b-a63c-4903-a207-284f100aeeef",
   "metadata": {},
   "outputs": [],
   "source": [
    "import cartopy\n",
    "import cartopy.crs as ccrs\n",
    "\n",
    "fig = plt.figure(figsize=(9,6))\n",
    "ax = plt.axes(projection=ccrs.PlateCarree())\n",
    "\n",
    "ax.add_feature(cartopy.feature.BORDERS, linestyle=':')\n",
    "era5_mean_temp = era5[\"t2m\"].mean(dim=\"time\") - 273.15\n",
    "era5_mean_temp.plot.imshow(ax=ax, cmap=\"coolwarm\", \n",
    "                           transform=ccrs.PlateCarree(),\n",
    "                           cbar_kwargs={'shrink': 0.65});"
   ]
  },
  {
   "cell_type": "markdown",
   "id": "d52c2c00-fb94-4fbf-8442-defce3f55178",
   "metadata": {},
   "source": [
    "(See notebook [visualization-03-cartopy](./visualization-03-cartopy.ipynb) for more information on the usage of Cartopy)"
   ]
  },
  {
   "cell_type": "markdown",
   "id": "050db69c-c7e0-4210-a6c4-530cba7f6cc5",
   "metadata": {},
   "source": [
    "<div class=\"alert alert-success\">\n",
    "\n",
    "**EXERCISE**:\n",
    "\n",
    "The [short names used by ECMWF](https://confluence.ecmwf.int/display/CKB/ERA5-Land%3A+data+documentation) are not very convenient to understand. Rename the variables of the  data set according to the following mapping:\n",
    "    \n",
    "- `sf`: snowfall_m\n",
    "- `sp`: pressure_pa\n",
    "- `t2m`: temperature_k\n",
    "- `tp`: precipitation_m\n",
    "- `u10`: wind_ms   \n",
    "    \n",
    "Save the result of the mapping as the variable `era5_renamed`.\n",
    "\n",
    "<details><summary>Hints</summary>\n",
    "\n",
    "* Both `rename` and `rename_vars` can be used to rename the DataSet variables\n",
    "* The `rename` function requires a `dict-like` input with the current names as the keys and the new names as the values. \n",
    "\n",
    "</details>    \n",
    "    \n",
    "</div>"
   ]
  },
  {
   "cell_type": "code",
   "execution_count": null,
   "id": "1403ca2d-3bcb-41e3-898f-578ce6ec1971",
   "metadata": {},
   "outputs": [],
   "source": [
    "mapping = {\n",
    "    \"sf\": \"snowfall_m\",\n",
    "    \"sp\": \"pressure_pa\",\n",
    "    \"t2m\": \"temperature_k\",\n",
    "    \"tp\": \"precipitation_m\",\n",
    "    \"u10\": \"wind_ms\"\n",
    "}"
   ]
  },
  {
   "cell_type": "code",
   "execution_count": null,
   "id": "597e057c-1f36-48cb-9b5a-22b4af6a8a59",
   "metadata": {
    "tags": [
     "nbtutor-solution"
    ]
   },
   "outputs": [],
   "source": [
    "era5_renamed = era5.rename(mapping)\n",
    "era5_renamed"
   ]
  },
  {
   "cell_type": "markdown",
   "id": "0cd469ac-818c-4eb9-bc4c-91ada227339d",
   "metadata": {},
   "source": [
    "__Note:__ _Make sure you have the variable `era5_renamed` correctly loaded for the following exercises. If not, load the solution of the previous exercise._"
   ]
  },
  {
   "cell_type": "markdown",
   "id": "988e64dc-ef51-435e-b24c-d362f20ea912",
   "metadata": {},
   "source": [
    "<div class=\"alert alert-success\">\n",
    "\n",
    "**EXERCISE**:\n",
    "\n",
    "Start from the `era5_renamed` variable. You are used to work with temperatures defined in degrees celsius instead of Kelvin. Add a new data variable to `era5_renamed`, named `temperature_c`, by converting the `temperature_k` into degrees celsius:\n",
    "    \n",
    "$T_{^{\\circ}C} = T_{K} - 273.15$\n",
    "    \n",
    "Create a histogram of the `temperature_c` to check the distribution of all the temperature valus in the data set. Use an appropriate number of bins to draw the histogram.\n",
    "\n",
    "<details><summary>Hints</summary>\n",
    "\n",
    "* Xarray - similar to Numpy - applies the mathematical operation element-wise, so no need for loops.\n",
    "* Most plot functions work on `DataArray`, so make sure to select the variable to apply the `.plot.hist()`.\n",
    "* One can define the number of bins using the `bins` parameter in the `hist` method.\n",
    "\n",
    "</details>    \n",
    "    \n",
    "</div>"
   ]
  },
  {
   "cell_type": "code",
   "execution_count": null,
   "id": "0f5095b1-5e3d-4ba2-afa8-33e22e61d331",
   "metadata": {
    "tags": [
     "nbtutor-solution"
    ]
   },
   "outputs": [],
   "source": [
    "era5_renamed[\"temperature_c\"] = era5_renamed[\"temperature_k\"] - 273.15"
   ]
  },
  {
   "cell_type": "code",
   "execution_count": null,
   "id": "a2230a30-b3a8-4298-9666-30ecc58e4849",
   "metadata": {
    "tags": [
     "nbtutor-solution"
    ]
   },
   "outputs": [],
   "source": [
    "era5_renamed[\"temperature_c\"].plot.hist(bins=50);"
   ]
  },
  {
   "cell_type": "markdown",
   "id": "4d372680-c12e-41bf-8bef-9e8c998dabde",
   "metadata": {},
   "source": [
    "<div class=\"alert alert-success\">\n",
    "\n",
    "**EXERCISE**:\n",
    "\n",
    "Calculate the total snowfall of the entire region of the dataset in function of time and create a line plot showing total snowfall in the y-axis and time in the x-axis.\n",
    "\n",
    "<details><summary>Hints</summary>\n",
    "\n",
    "* You need to calculate the total (`sum`) snowfall (`snowfall_m`) in function of time, i.e. aggregate over both the `longitude` and `latitude` dimensions (`dim=[\"latitude\", \"longitude\"]`).\n",
    "* As the result is a DataArray with a single dimension, the default `plot` will show a line, but you can be more explicit by saying `.plot.line()`.\n",
    "\n",
    "</details>    \n",
    "    \n",
    "</div>"
   ]
  },
  {
   "cell_type": "code",
   "execution_count": null,
   "id": "733a1027-f906-40e5-8958-af99391dedd4",
   "metadata": {
    "tags": [
     "nbtutor-solution"
    ]
   },
   "outputs": [],
   "source": [
    "era5_renamed[\"snowfall_m\"].sum(dim=[\"latitude\", \"longitude\"]).plot.line(figsize=(18, 5))"
   ]
  },
  {
   "cell_type": "markdown",
   "id": "633ece8e-0fcf-4822-a14d-d45e6677adb5",
   "metadata": {},
   "source": [
    "<div class=\"alert alert-success\">\n",
    "\n",
    "**EXERCISE**:\n",
    "\n",
    "The speed to sound is linearly dependent on temperature:\n",
    "    \n",
    "$v = 331.5 + (0.6 \\cdot T)$\n",
    "    \n",
    "with $v$ the speed of sound and $T$ the temperature in degrees celsius.    \n",
    "    \n",
    "Add a new variable to the `era5_renamed` data set, called `speed_of_sound_m_s`, that calculates for each location and each time stamp in the data set the temperature corrected speed of sound.\n",
    "    \n",
    "Create a scatter plot to control the (linear) relationship you just calculated by comparing all the `speed_of_sound_m_s` and `temperature_c` data points in the data set.\n",
    "\n",
    "<details><summary>Hints</summary>\n",
    "\n",
    "* Creating a new variable is similar to GeoPandas/Pandas/dictionaries, `ds[\"MY_NEW_VAR\"] = ...`.\n",
    "* Remember, calculations are __element-wise__ just as in Numpy/Pandas; so no need for loops. The numbers (331.5, 0.6) are broadcasted to all elements in the data set to do the calculation.\n",
    "* To compare two variables in a data set visually, `plot.scatter()` it is.\n",
    "\n",
    "</details>    \n",
    "    \n",
    "</div>"
   ]
  },
  {
   "cell_type": "code",
   "execution_count": null,
   "id": "75b9ea92-7563-45b8-918d-0ee24092f1eb",
   "metadata": {
    "tags": [
     "nbtutor-solution"
    ]
   },
   "outputs": [],
   "source": [
    "era5_renamed[\"speed_of_sound_m_s\"] = 331.5 + (0.6*era5_renamed[\"temperature_c\"])"
   ]
  },
  {
   "cell_type": "code",
   "execution_count": null,
   "id": "dc82bca4-bd8a-4ff7-89ef-2e007cc058ee",
   "metadata": {
    "tags": [
     "nbtutor-solution"
    ]
   },
   "outputs": [],
   "source": [
    "era5_renamed.plot.scatter(x=\"temperature_c\", y=\"speed_of_sound_m_s\")"
   ]
  },
  {
   "cell_type": "markdown",
   "id": "4bb8d66a-c910-4108-920d-d780838c9717",
   "metadata": {},
   "source": [
    "## Working with time series"
   ]
  },
  {
   "cell_type": "markdown",
   "id": "775b5de9-0cd2-4e73-993a-a4b2ed741ba2",
   "metadata": {},
   "source": [
    "Let's start again from the ERA5 data set we worked with in the previous exercises, and rename the variables for convenience:"
   ]
  },
  {
   "cell_type": "code",
   "execution_count": null,
   "id": "2053ddc5-1a08-48b5-b3be-3267441bbaa5",
   "metadata": {},
   "outputs": [],
   "source": [
    "era5 = xr.open_dataset(\"./data/era5-land-monthly-means_example.nc\")\n",
    "mapping = {\n",
    "    \"sf\": \"snowfall_m\",\n",
    "    \"sp\": \"pressure_pa\",\n",
    "    \"t2m\": \"temperature_k\",\n",
    "    \"tp\": \"precipitation_m\",\n",
    "    \"u10\": \"wind_ms\"\n",
    "}\n",
    "era5_renamed = era5.rename(mapping)\n",
    "era5_renamed"
   ]
  },
  {
   "cell_type": "markdown",
   "id": "f09ee5e8-6a10-4831-95a0-6c9577437992",
   "metadata": {},
   "source": [
    "Apart from the different coordinates, the data set also contains a `time` dimension. xarray borrows the indexing machinery from Pandas, also for datetime coordinates:"
   ]
  },
  {
   "cell_type": "code",
   "execution_count": null,
   "id": "0bbf03b0-2b2b-4c69-90a3-90c91b783688",
   "metadata": {},
   "outputs": [],
   "source": [
    "era5_renamed.time"
   ]
  },
  {
   "cell_type": "markdown",
   "id": "c964676f-5baf-4ea6-9e23-c38883cfe4fe",
   "metadata": {},
   "source": [
    "With a DateTime-aware index (see `datetime64[ns]` as dtype), selecting dates can be done using the string representation, e.g."
   ]
  },
  {
   "cell_type": "code",
   "execution_count": null,
   "id": "a5577359-e2c4-4fc8-a157-8a580682d5ea",
   "metadata": {},
   "outputs": [],
   "source": [
    "era5_renamed.sel(time=\"2002\").time "
   ]
  },
  {
   "cell_type": "code",
   "execution_count": null,
   "id": "01dd349e-6fc3-42be-ae2d-96c1f4ed66ec",
   "metadata": {},
   "outputs": [],
   "source": [
    "era5_renamed.sel(time=slice(\"2001-05\", \"2002-08\")).time"
   ]
  },
  {
   "cell_type": "markdown",
   "id": "0d6edf5a-506d-4217-82c9-1cfafbbe34ff",
   "metadata": {},
   "source": [
    "And you can access the datetime components, e.g. \"year\", \"month\",..., \"dayofyear\", \"week\", \"dayofweek\",... but also \"season\". Do not forget to use the `.dt`-accessor to access these components:"
   ]
  },
  {
   "cell_type": "code",
   "execution_count": null,
   "id": "0a6d3d01-763c-4197-97c0-1b6df3aa80eb",
   "metadata": {},
   "outputs": [],
   "source": [
    "era5_renamed[\"time\"].dt.season"
   ]
  },
  {
   "cell_type": "markdown",
   "id": "2775d2ed-eb40-4a7b-8ecc-1535e2e9594f",
   "metadata": {},
   "source": [
    "Xarray contains some more powerful functionalities to work with time series, e.g. `groupby`, `resample` and `rolling`. All have a similar syntax as Pandas/GeoPandas, but applied on an N-dimensional array instead of a DataFrame."
   ]
  },
  {
   "cell_type": "markdown",
   "id": "c346962c-7ce8-4f55-a728-043b1f94463a",
   "metadata": {},
   "source": [
    "### split-apply-combine, aka `groupby`"
   ]
  },
  {
   "cell_type": "markdown",
   "id": "514eaf9e-1127-42cf-ab61-12551b73ec86",
   "metadata": {},
   "source": [
    "If we are interested in the _average over time_ for each of the levels, we can use a reducton function to get the averages of each of the variables at the same time:"
   ]
  },
  {
   "cell_type": "code",
   "execution_count": null,
   "id": "a397d3e5-991b-44de-a3df-70ad02523df8",
   "metadata": {
    "jupyter": {
     "outputs_hidden": false
    }
   },
   "outputs": [],
   "source": [
    "era5_renamed.mean(dim=[\"time\"])"
   ]
  },
  {
   "cell_type": "markdown",
   "id": "be63a859-d1d0-4dc6-a4d9-d92a328eb884",
   "metadata": {},
   "source": [
    "But if we wanted the _average for each month of the year_ per level, we would first have to __split__ the data set in a group for each month of the year, __apply__ the average function on each of the months and __combine__ the data again. \n",
    "\n",
    "We already learned about the [split-apply-combine](https://pandas.pydata.org/pandas-docs/stable/user_guide/groupby.html) approach when using Pandas. The syntax of Xarray’s groupby is almost identical to Pandas!"
   ]
  },
  {
   "cell_type": "markdown",
   "id": "7b2f35df-5bd3-46a9-85c1-0800bccd4b0a",
   "metadata": {},
   "source": [
    "First, extract the month of the year (1 -> 12) from each of the time coordinate/dimension:"
   ]
  },
  {
   "cell_type": "code",
   "execution_count": null,
   "id": "cdaf9650-9c43-4c10-b1b9-d9fb157409fa",
   "metadata": {
    "jupyter": {
     "outputs_hidden": false
    }
   },
   "outputs": [],
   "source": [
    "era5_renamed[\"time\"].dt.month  # The coordinates is a Pandas datetime index"
   ]
  },
  {
   "cell_type": "markdown",
   "id": "71fa721e-685e-43ef-83f4-8a6ce44f7192",
   "metadata": {},
   "source": [
    "We can use this array in a `groupby` operation:"
   ]
  },
  {
   "cell_type": "code",
   "execution_count": null,
   "id": "8efd054d-939c-488e-9504-0a710e4a1e03",
   "metadata": {
    "jupyter": {
     "outputs_hidden": false
    }
   },
   "outputs": [],
   "source": [
    "era5_renamed.groupby(era5_renamed[\"time\"].dt.month)"
   ]
  },
  {
   "cell_type": "markdown",
   "id": "9711cc34-8f5e-40f6-8ba8-88312a29b98b",
   "metadata": {},
   "source": [
    "_split the data in (12) groups where each element is grouped according to the month it belongs to._"
   ]
  },
  {
   "cell_type": "markdown",
   "id": "c778cca9-a129-48bd-9064-9ef2bdc9fa87",
   "metadata": {},
   "source": [
    "__Note:__ Xarray also offers a more concise syntax when the variable you're grouping on is already present in the dataset. The following statement is identical to the previous line:"
   ]
  },
  {
   "cell_type": "code",
   "execution_count": null,
   "id": "fe0045b6-420e-473d-b5f4-0f0a46c9aafd",
   "metadata": {
    "jupyter": {
     "outputs_hidden": false
    }
   },
   "outputs": [],
   "source": [
    "era5_renamed.groupby(\"time.month\")"
   ]
  },
  {
   "cell_type": "markdown",
   "id": "b59f7bc2-9fee-4cfd-8843-87e9331796d1",
   "metadata": {},
   "source": [
    "Next, we apply an aggregation function _for each of the months_ over the `time` dimension in order to end up with: _for each month of the year, the average (over time) for each of the levels_:"
   ]
  },
  {
   "cell_type": "code",
   "execution_count": null,
   "id": "353ce952-5452-4c1a-b64f-49109e45865c",
   "metadata": {},
   "outputs": [],
   "source": [
    "era5_renamed.groupby(\"time.month\").mean()"
   ]
  },
  {
   "cell_type": "markdown",
   "id": "49043296-6e04-4f36-ac97-9edc2568c2fa",
   "metadata": {},
   "source": [
    "The resulting dimension month contains the 12 groups on which the data set was split up."
   ]
  },
  {
   "cell_type": "markdown",
   "id": "0fbab008-bd82-47c4-b9fd-f1075811b7e3",
   "metadata": {},
   "source": [
    "<img align=\"center\" src=\"../img/pandas/06_groupby1.svg\">"
   ]
  },
  {
   "cell_type": "markdown",
   "id": "797ae1ed-2940-4199-b297-7d6e9acab715",
   "metadata": {},
   "source": [
    "<div class=\"alert alert-info\" style=\"font-size:120%\">\n",
    "\n",
    "**REMEMBER**: <br>\n",
    "\n",
    "The `groupby` method splits the data set in groups, applies some function _on each of the groups_ and combines again the results of each of the groups. It is not limited to time series data, but can be used in any situation where the data can be split up by a categorical variable. \n",
    "\n",
    "</div>"
   ]
  },
  {
   "cell_type": "markdown",
   "id": "6d51b68b-9a92-450b-b500-59b371a3eef5",
   "metadata": {},
   "source": [
    "### resample/rolling"
   ]
  },
  {
   "cell_type": "markdown",
   "id": "fb9cdebc-c4bc-491d-81c0-3d6b2cce3b79",
   "metadata": {},
   "source": [
    "Another (alike) operation - specifically for time series data - is to `resample` the data to another time-aggregation. For example, resample to monthly (`4M`) or yearly (`1Y`) median values:"
   ]
  },
  {
   "cell_type": "code",
   "execution_count": null,
   "id": "6e8df3de-72ea-4281-b355-6216117c2e83",
   "metadata": {
    "jupyter": {
     "outputs_hidden": false
    }
   },
   "outputs": [],
   "source": [
    "era5_renamed.resample(time=\"1YE\").median()  # 4M"
   ]
  },
  {
   "cell_type": "code",
   "execution_count": null,
   "id": "6b846207-a635-42f7-8b31-0c38e3fa8b17",
   "metadata": {
    "jupyter": {
     "outputs_hidden": false
    }
   },
   "outputs": [],
   "source": [
    "era5_renamed[\"temperature_k\"].sel(latitude=51., longitude=4., method=\"nearest\").plot.line(x=\"time\");\n",
    "era5_renamed[\"temperature_k\"].sel(latitude=51., longitude=4., method=\"nearest\").resample(time=\"10YE\").median().plot.line(x=\"time\");"
   ]
  },
  {
   "cell_type": "markdown",
   "id": "da0d5e1a-3752-480f-a7e3-6e5fc92fa7f2",
   "metadata": {},
   "source": [
    "A similar, but different functionality is `rolling` to calculate rolling window aggregates:"
   ]
  },
  {
   "cell_type": "code",
   "execution_count": null,
   "id": "44c7ffc1-fa4c-4e38-a57a-b2128cb93040",
   "metadata": {},
   "outputs": [],
   "source": [
    "era5_renamed.rolling(time=12, center=True).median()"
   ]
  },
  {
   "cell_type": "code",
   "execution_count": null,
   "id": "eb325086-089c-45e6-84c5-131db680cd19",
   "metadata": {
    "jupyter": {
     "outputs_hidden": false
    }
   },
   "outputs": [],
   "source": [
    "era5_renamed[\"temperature_k\"].sel(latitude=51., longitude=4., method=\"nearest\").plot.line()\n",
    "era5_renamed[\"temperature_k\"].sel(latitude=51., longitude=4., method=\"nearest\").rolling(time=12, center=True).min().plot.line()\n",
    "era5_renamed[\"temperature_k\"].sel(latitude=51., longitude=4., method=\"nearest\").rolling(time=12, center=True).max().plot.line()"
   ]
  },
  {
   "cell_type": "markdown",
   "id": "71085f04-5124-4a10-9e5c-cbaa2674d564",
   "metadata": {},
   "source": [
    "<div class=\"alert alert-info\" style=\"font-size:120%\">\n",
    "\n",
    "**REMEMBER**: <br>\n",
    "\n",
    "The [xarray `groupby`](http://xarray.pydata.org/en/stable/groupby.html) with the same syntax as Pandas implements the __split-apply-combine__ strategy. Also [`resample`](http://xarray.pydata.org/en/stable/time-series.html#resampling-and-grouped-operations) and [`rolling`](http://xarray.pydata.org/en/stable/computation.html?highlight=rolling#rolling-window-operations) are available in xarray.\n",
    "    \n",
    "__Note:__ Xarray adds a [`groupby_bins`](http://xarray.pydata.org/en/stable/generated/xarray.Dataset.groupby_bins.html#xarray.Dataset.groupby_bins) convenience function for binned groups (instead of each value).\n",
    "\n",
    "</div>"
   ]
  },
  {
   "cell_type": "markdown",
   "id": "ed0ed970-502e-428a-8306-5af774aad525",
   "metadata": {},
   "source": [
    "### Let's practice"
   ]
  },
  {
   "cell_type": "markdown",
   "id": "19baaf1d-8013-4e0e-8acc-93baefab799e",
   "metadata": {},
   "source": [
    "Run this cell before doing the exercises, so the starting point is again the `era5_renamed` data set:"
   ]
  },
  {
   "cell_type": "code",
   "execution_count": null,
   "id": "9b8f3607-8fea-484e-b899-cb8f35302105",
   "metadata": {},
   "outputs": [],
   "source": [
    "era5 = xr.open_dataset(\"./data/era5-land-monthly-means_example.nc\")\n",
    "mapping = {\n",
    "    \"sf\": \"snowfall_m\",\n",
    "    \"sp\": \"pressure_pa\",\n",
    "    \"t2m\": \"temperature_k\",\n",
    "    \"tp\": \"precipitation_m\",\n",
    "    \"u10\": \"wind_ms\"\n",
    "}\n",
    "era5_renamed = era5.rename(mapping)"
   ]
  },
  {
   "cell_type": "markdown",
   "id": "ce2fd02d-6d03-46cf-8fa6-8f3235cb29ca",
   "metadata": {},
   "source": [
    "<div class=\"alert alert-success\">\n",
    "\n",
    "**EXERCISE**:\n",
    "\n",
    "Select the pressure data for the pixel closest to the center of Ghent (lat: -51.05, lon: 3.71) and assign the outcome to a new variable `ghent_pressure`.\n",
    "\n",
    "Define a Matplotlib `Figure` and `Axes` (respectively named `fig, ax`) and use it to create a plot that combines the yearly average of the pressure data in Gent with the monthly pressure data as function of time for that same pixel as line plots. Change the name of the y-label to `'Pressure (Pa)'` and the title of the plot to `'Pressure (Pa) in Ghent (at -51.05, 3.71)'` (see notebook [visualization-01-matplotlib.ipynb](./visualization-01-matplotlib.ipynb#An-small-cheat-sheet-reference-for-some-common-elements) for more information)\n",
    "\n",
    "<details><summary>Hints</summary>\n",
    "    \n",
    "* For the yearly average, actually both `resample(time=\"Y\")` as `groupby(\"time.year\")` can be used. The main difference is the returned dimension after the grouping: `resample` returns a DateTimeIndex, whereas `groupby` returns a dimension called `year` and no longer contains the DateTimeIndex. To combine the data with other time series data, using the DateTimeIndex is preferred (i.e. `resample`). \n",
    "* `fig, ax = plt.subplots()` is a useful shortcut to prepare a Matplotlib Figure. You can add a label `set_label()` and title `set_title()` to the `axes` object.\n",
    "\n",
    "</details>    \n",
    "    \n",
    "</div>"
   ]
  },
  {
   "cell_type": "code",
   "execution_count": null,
   "id": "3042fd53-7a4e-4ef0-8fe5-9e9885231b0a",
   "metadata": {
    "tags": [
     "nbtutor-solution"
    ]
   },
   "outputs": [],
   "source": [
    "ghent_pressure = era5_renamed.sel(latitude=51.05, longitude=3.71, method=\"nearest\")[\"pressure_pa\"]\n",
    "\n",
    "fig, ax = plt.subplots(figsize=(18, 6))\n",
    "ghent_pressure.plot.line(ax=ax)\n",
    "ghent_pressure.resample(time=\"YE\").mean().plot.line(ax=ax)\n",
    "\n",
    "ax.set_ylabel('Pressure (Pa)')\n",
    "ax.set_title('Pressure (Pa) in Ghent (-51.05, 3.71)')"
   ]
  },
  {
   "cell_type": "markdown",
   "id": "8867e7b1-949f-4df4-860c-8c2947452502",
   "metadata": {},
   "source": [
    "<div class=\"alert alert-success\">\n",
    "\n",
    "**EXERCISE**:\n",
    "    \n",
    "Select the precipitation data for the pixel closest to the center of Ghent (lat: -51.05, lon: 3.71) and assign the outcome to a new variable `ghent_precipitation`.\n",
    "    \n",
    "For the Ghent pixel, calculate the maximal precipitation _for each month of the year_ (1 -> 12) and convert it to mm precipitation.\n",
    "    \n",
    "To make a bar-chart (not supported in xarray) of the maximal precipitation for each month of the year, convert the output to a Pandas DataFrame using the `to_dataframe()` method and create a horizontal bar chart with the month in the y-axis and the maximal precipitation in the x-axis. Feel free to improve the axis labels.\n",
    "\n",
    "<details><summary>Hints</summary>\n",
    "    \n",
    "* You need to group based on the month of the data point, hence `groupby(\"...\")` with `time` as an existing dimension, the `time.month` shortcut to get the corresponding month will work.\n",
    "* Plotting in Pandas is very similar to xarray, use `.plot.barh()` to create a horizontal bar chart.\n",
    "\n",
    "</details>    \n",
    "    \n",
    "</div>"
   ]
  },
  {
   "cell_type": "code",
   "execution_count": null,
   "id": "781a3ec8-6080-4871-950b-d2b3f9112421",
   "metadata": {
    "tags": [
     "nbtutor-solution"
    ]
   },
   "outputs": [],
   "source": [
    "ghent_precipitation = era5_renamed.sel(latitude=51.05, longitude=3.71, method=\"nearest\")[\"precipitation_m\"]\n",
    "ghent_precipitation_month_max = ghent_precipitation.groupby(\"time.month\").max()*1000\n",
    "\n",
    "fig, ax = plt.subplots()\n",
    "ghent_precipitation_month_max.to_dataframe()[\"precipitation_m\"].plot.barh(ax=ax)\n",
    "ax.set_xlabel(\"Maximal monthly precipitation (mm)\")\n",
    "ax.set_ylabel(\"Month of the year\")"
   ]
  },
  {
   "cell_type": "markdown",
   "id": "f56b741b-d6bb-42f0-b1bb-106468ef1ef7",
   "metadata": {},
   "source": [
    "<div class=\"alert alert-success\">\n",
    "\n",
    "**EXERCISE**:\n",
    "    \n",
    "Calculate the pixel-based average temperature _for each season_. Make a plot (`imshow`) with each of the seasons in a separate subplot next to each other. \n",
    "\n",
    "<details><summary>Hints</summary>\n",
    "    \n",
    "* You need to group based on the season of the data point, hence `groupby(\"...\")` with `time` as an existing dimension, the `time.season` shortcut to get the corresponding season will work.\n",
    "* The labels of the season groups are sorted on the strings in the description instead of the seasons. The workaround is to `reindex` and provide a correctly sorted (i.e. `['DJF','MAM','JJA', 'SON']` version to sort the `season` with.\n",
    "* Use facetting to plot each of the seasons next to each other, with `col=\"season\"`.\n",
    "\n",
    "\n",
    "</details>    \n",
    "    \n",
    "</div>"
   ]
  },
  {
   "cell_type": "code",
   "execution_count": null,
   "id": "3cfd5a68-7ea5-4078-b244-3913e1f75142",
   "metadata": {
    "tags": [
     "nbtutor-solution"
    ]
   },
   "outputs": [],
   "source": [
    "seaons_temp = era5_renamed[\"temperature_k\"].groupby(\"time.season\").mean()\n",
    "# See https://github.com/pydata/xarray/issues/757 for getting well-sorted groups for plotting\n",
    "seaons_temp = seaons_temp.reindex(season=['DJF','MAM','JJA', 'SON'])\n",
    "seaons_temp.plot.imshow(col=\"season\", cmap=\"Reds\")"
   ]
  },
  {
   "cell_type": "markdown",
   "id": "f437e339-2074-4aef-8cf2-0e3cd3ac2a3b",
   "metadata": {},
   "source": [
    "<div class=\"alert alert-success\">\n",
    "\n",
    "**EXERCISE**:\n",
    "\n",
    "Calculate the average temperature of the entire region of the dataset in function of time. From this time series, use only those years for which all 12 months of the year are included in the data set and calculate the yearly average temperature.\n",
    "    \n",
    "Create a line plot showing the yearly average temperature in the y-axis and time in the x-axis.\n",
    "\n",
    "<details><summary>Hints</summary>\n",
    "\n",
    "* You need to calculate the average (`mean`) temperature in function of time, i.e. aggregate over both the `longitude` and `latitude` dimensions.\n",
    "* Year 2021 is only available till June, so exclude the year (e.g. slice till 2020).\n",
    "* Resample to yearly values.\n",
    "* As the result is a DataArray with a single dimension, the default `plot` will show a line, but you can be more explicit by saying `.plot.line()`.\n",
    "\n",
    "</details>    \n",
    "    \n",
    "</div>"
   ]
  },
  {
   "cell_type": "code",
   "execution_count": null,
   "id": "5bfd0ba8-4580-44ce-970d-b18fc0b75623",
   "metadata": {
    "tags": [
     "nbtutor-solution"
    ]
   },
   "outputs": [],
   "source": [
    "temp_mean = era5_renamed[\"temperature_k\"].mean(dim=[\"latitude\", \"longitude\"]).sel(time=slice(\"1981\", \"2020\"))\n",
    "temp_mean.resample(time=\"YE\").mean().plot.line(figsize=(12, 5))"
   ]
  },
  {
   "cell_type": "markdown",
   "id": "e87b7994-ccc2-473b-8317-5e86c7f84fbf",
   "metadata": {},
   "source": [
    "<div class=\"alert alert-success\">\n",
    "\n",
    "**EXERCISE**:\n",
    "    \n",
    "Create the yearly total snowfall from 1991 up to 2005 and convert the snowfall into cm.  Make a plot (`imshow`) with each of the individual years in a separate subplot divided into 3 rows and 5 columns.\n",
    "    \n",
    "Make sure to update the name of the snowfall variable and/or colorbar label to make sure it defines the unit in cm.\n",
    " \n",
    "\n",
    "<details><summary>Hints</summary>\n",
    "\n",
    "* When selecting time series data from a coordinate with datetime-aware data, one can use strings to define a date. In combination with `slice`, the selection of the required years becomes `slice(\"1991\", \"2005\")`.\n",
    "* From montly to yearly data is a `resample` of the data.\n",
    "* Use `.rename(NEW_NAME)` to update the name of a `DataArray`\n",
    "* xarray supports _facetting_ directly, check out the `col` and `col_wrap` parameters in the plot functions of xarray or check http://xarray.pydata.org/en/stable/user-guide/plotting.html#faceting.\n",
    "* To update the colorbar unit use, the `cbar_kwargs` option.\n",
    "\n",
    "</details>    \n",
    "    \n",
    "</div>"
   ]
  },
  {
   "cell_type": "code",
   "execution_count": null,
   "id": "fa90d488-c4c2-40d1-a72d-f44178c6d643",
   "metadata": {
    "tags": [
     "nbtutor-solution"
    ]
   },
   "outputs": [],
   "source": [
    "snowfall_1991_2005 = era5_renamed.sel(time=slice(\"1991\", \"2005\"))[\"snowfall_m\"]\n",
    "snowfall_yearly = snowfall_1991_2005.resample(time=\"YE\").sum()*100\n",
    "snowfall_yearly = snowfall_yearly.rename(\"snowfall_cm\")\n",
    "snowfall_yearly.plot.imshow(col=\"time\", col_wrap=5, cmap=cmocean.cm.ice, \n",
    "                            cbar_kwargs={\"label\": \"snowfall (cm)\"})"
   ]
  },
  {
   "cell_type": "markdown",
   "id": "06a4eaf2-0c04-4586-8280-5ff7808d0178",
   "metadata": {},
   "source": [
    "## xarray lazy data loading\n",
    "\n",
    "Values are only read from disk when needed. For example, the following statement only reads the coordinate information and the metadata. The data itself is not yet loaded:"
   ]
  },
  {
   "cell_type": "code",
   "execution_count": null,
   "id": "531a290d-2721-4201-89fc-b7109d0cb087",
   "metadata": {},
   "outputs": [],
   "source": [
    "data_file = \"./data/2016-2017_global_rain-temperature.nc\""
   ]
  },
  {
   "cell_type": "code",
   "execution_count": null,
   "id": "36901805-8511-41ab-95ac-e4863358a2c1",
   "metadata": {
    "jupyter": {
     "outputs_hidden": false
    }
   },
   "outputs": [],
   "source": [
    "ds = xr.open_dataset(data_file)"
   ]
  },
  {
   "cell_type": "markdown",
   "id": "56ea00c4-2fbc-405a-bc04-1678ec50ef20",
   "metadata": {},
   "source": [
    "`load()` will explicitly load the data into memory:"
   ]
  },
  {
   "cell_type": "code",
   "execution_count": null,
   "id": "6d0d1e85-838e-4993-b504-a7d88d526f86",
   "metadata": {
    "jupyter": {
     "outputs_hidden": false
    }
   },
   "outputs": [],
   "source": [
    "xr.open_dataset(data_file).load()"
   ]
  },
  {
   "cell_type": "markdown",
   "id": "98492efe-ff37-41e9-ac78-a37007e5fd07",
   "metadata": {},
   "source": [
    "## (Optional) From DataSet to DataArray and back"
   ]
  },
  {
   "cell_type": "markdown",
   "id": "ba05f4a7-1916-4c10-b307-2483bd4a3fad",
   "metadata": {},
   "source": [
    "Consider the sentinel images of Gent used in a previous notebook:"
   ]
  },
  {
   "cell_type": "code",
   "execution_count": null,
   "id": "69c45250-c760-4b2f-9769-e8cdd22a0aa8",
   "metadata": {},
   "outputs": [],
   "source": [
    "gent_file = \"./data/gent/raster/2020-09-17_Sentinel_2_L1C_B0408.tiff\"\n",
    "gent_array = xr.open_dataarray(gent_file, engine=\"rasterio\")\n",
    "gent_array.plot.imshow(col=\"band\")"
   ]
  },
  {
   "cell_type": "markdown",
   "id": "b447c79c-1e7f-4c25-bf2c-823b87c96ff5",
   "metadata": {},
   "source": [
    "The data is a `xarray.DataArray` with 3 dimensions and corresponding coordinates. Assigning the names `b4` and `b8` to the individual bands, makes the data more self-describing:"
   ]
  },
  {
   "cell_type": "code",
   "execution_count": null,
   "id": "bc9f62fb-2df7-490b-8a69-5570cf68eb0a",
   "metadata": {},
   "outputs": [],
   "source": [
    "gent_array = gent_array.assign_coords(band=(\"band\", [\"b4\", \"b8\"]))\n",
    "gent_array"
   ]
  },
  {
   "cell_type": "markdown",
   "id": "c927b116-bd41-4ecf-b94d-0a12e31f7e87",
   "metadata": {},
   "source": [
    "In case one wants to work with the different bands as DataSet variables instead of a dimension of a single DataArray, the conversion `to_dataset` can be done, defining the dimension to convert to data set variables, e.g."
   ]
  },
  {
   "cell_type": "code",
   "execution_count": null,
   "id": "5a6b5f39-4861-4fed-b92a-963b1bd508b3",
   "metadata": {},
   "outputs": [],
   "source": [
    "gent_ds = gent_array.to_dataset(dim=\"band\")\n",
    "gent_ds"
   ]
  },
  {
   "cell_type": "markdown",
   "id": "b2324c6d-d5e0-4143-9b31-abd08795f13a",
   "metadata": {},
   "source": [
    "Consider the calculation of the NDVI for Gent using a xarray DataArray:"
   ]
  },
  {
   "cell_type": "code",
   "execution_count": null,
   "id": "12ece407-f5ba-4978-97dd-3b1e45a3b55c",
   "metadata": {},
   "outputs": [],
   "source": [
    "ndvi_array = (gent_array.sel(band=\"b8\") - gent_array.sel(band=\"b4\"))/(gent_array.sel(band=\"b8\") + gent_array.sel(band=\"b4\"))\n",
    "ndvi_array.plot.imshow(cmap=\"YlGn\")"
   ]
  },
  {
   "cell_type": "markdown",
   "id": "628c0255-eb78-4b64-a55b-b3ef56376de4",
   "metadata": {},
   "source": [
    "One might find the usage of data variable in this case more convenient, as it provides the ability to:\n",
    "\n",
    "1. work with the variable names directly\n",
    "2. Add the output tot the data set as a new variable\n",
    "3. The output can be converted to an Array again using `to_array`\n",
    "\n",
    "For example:"
   ]
  },
  {
   "cell_type": "code",
   "execution_count": null,
   "id": "131a85e6-a7d2-40dc-99f8-e98616a1ab6e",
   "metadata": {},
   "outputs": [],
   "source": [
    "gent_ds[\"ndvi\"] = (gent_ds[\"b8\"] - gent_ds[\"b4\"])/(gent_ds[\"b8\"] + gent_ds[\"b4\"])\n",
    "gent_ds.to_array(dim=\"layer\")"
   ]
  }
 ],
 "metadata": {
  "kernelspec": {
   "display_name": "Python 3 (ipykernel)",
   "language": "python",
   "name": "python3"
  },
  "language_info": {
   "codemirror_mode": {
    "name": "ipython",
    "version": 3
   },
   "file_extension": ".py",
   "mimetype": "text/x-python",
   "name": "python",
   "nbconvert_exporter": "python",
   "pygments_lexer": "ipython3",
   "version": "3.12.7"
  },
  "widgets": {
   "application/vnd.jupyter.widget-state+json": {
    "state": {},
    "version_major": 2,
    "version_minor": 0
   }
  }
 },
 "nbformat": 4,
 "nbformat_minor": 5
}
