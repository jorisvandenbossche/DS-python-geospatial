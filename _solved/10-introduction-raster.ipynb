{
 "cells": [
  {
   "cell_type": "markdown",
   "metadata": {},
   "source": [
    "<p><font size=\"6\"><b>Introduction to geospatial raster data in Python</b></font></p>\n",
    "\n",
    "\n",
    "> *DS Python for GIS and Geoscience*  \n",
    "> *November, 2022*\n",
    ">\n",
    "> *© 2022, Joris Van den Bossche and Stijn Van Hoey. Licensed under [CC BY 4.0 Creative Commons](http://creativecommons.org/licenses/by/4.0/)*\n",
    "\n",
    "---"
   ]
  },
  {
   "cell_type": "code",
   "execution_count": null,
   "metadata": {
    "deletable": true,
    "editable": true
   },
   "outputs": [],
   "source": [
    "%matplotlib inline\n",
    "\n",
    "import numpy as np"
   ]
  },
  {
   "cell_type": "markdown",
   "metadata": {
    "deletable": true,
    "editable": true
   },
   "source": [
    "The two primary types of geospatial data are raster and vector data. Vector data structures represent specific features on the Earth’s surface, and assign attributes to those features. \n",
    "\n",
    "__Raster data__ is stored as a grid of values which are rendered on a map as pixels. Raster files are different from photographs in that they are spatially referenced. Each pixel represents an area of land on the ground. That area is defined by the spatial resolution of the raster."
   ]
  },
  {
   "cell_type": "markdown",
   "metadata": {
    "deletable": true,
    "editable": true
   },
   "source": [
    "![](../img/raster-concept.png)\n",
    "\n",
    "<small>_Source: Colin Williams, NEON._</small>"
   ]
  },
  {
   "cell_type": "markdown",
   "metadata": {},
   "source": [
    "Raster data contains at least 3 dimensions:\n",
    "\n",
    "- longitude of the pixel \n",
    "- latitude of the pixel \n",
    "- data value(s) of the pixel\n",
    "\n",
    "The data value can be a single data point for each pixel, also called a single band (or layer) raster data set. A well-known single-band raster data set is a Digital Elevation Model (DEM): each pixel data value in a DEM represents the surface elevation of the area represented by the pixel. \n",
    "\n",
    "Each pixel can also contain multiple data values, i.e. multiple bands (or layers). Remote sensing measurement are typically raster data sets that consist out of multiple bands. For example, bands 2, 3, and 4 of the [Landsat 8](https://landsat.gsfc.nasa.gov/landsat-8/landsat-8-bands) measurements capture respectively visible blue, green, and red (each with a resolution of 30m).\n",
    "\n",
    "Whereas we could actually store raster data as a tabular data set using an x, y and value column, the representation as a N-d array/grid is more convenient for raster data handling. \n",
    "\n",
    "Similar to the GeoPandas library for feature based data, meet [xarray](http://xarray.pydata.org/en/stable/) for raster based data."
   ]
  },
  {
   "cell_type": "markdown",
   "metadata": {
    "deletable": true,
    "editable": true,
    "tags": []
   },
   "source": [
    "## Importing raster data"
   ]
  },
  {
   "cell_type": "markdown",
   "metadata": {
    "deletable": true,
    "editable": true
   },
   "source": [
    "Just like geospatial feature based (vector) data, raster data is available from specific GIS file formats or data stores, like Geotiff files, Esri grid, NetCDF files, PostGIS (PostgreSQL) database, ...\n",
    "\n",
    "We can use the xarray library to read many of those GIS file formats (relying on the [Rasterio library](https://rasterio.readthedocs.io/en/latest/) under the hood, which is an interface to raster data). An important data format is GeoTiff. \n",
    "\n",
    "Let's start with reading the Sentinel RGB bands for Herstappe:"
   ]
  },
  {
   "cell_type": "code",
   "execution_count": null,
   "metadata": {},
   "outputs": [],
   "source": [
    "import xarray as xr"
   ]
  },
  {
   "cell_type": "code",
   "execution_count": null,
   "metadata": {
    "deletable": true,
    "editable": true
   },
   "outputs": [],
   "source": [
    "file_herstappe = \"./data/herstappe/raster/2020-09-17_Sentinel_2_L1C_True_color.tiff\""
   ]
  },
  {
   "cell_type": "code",
   "execution_count": null,
   "metadata": {},
   "outputs": [],
   "source": [
    "herstappe = xr.open_dataarray(file_herstappe, engine=\"rasterio\")\n",
    "herstappe"
   ]
  },
  {
   "cell_type": "markdown",
   "metadata": {},
   "source": [
    "Xarray brings its own plotting methods, but relies on Matplotlib for the actual plotting:"
   ]
  },
  {
   "cell_type": "code",
   "execution_count": null,
   "metadata": {},
   "outputs": [],
   "source": [
    "ax = herstappe.plot.imshow(figsize=(12, 5))\n",
    "#ax.axes.set_aspect('equal')  # adjust the ratio of y-unit to x-unit, using 'esual' uses the same scaling for x and y, "
   ]
  },
  {
   "cell_type": "markdown",
   "metadata": {},
   "source": [
    "A raster is an __image__ in local pixel coordinates until we specify what part of the earth the image covers. This is done through the usage of raster file metadata. It depends on the file type how these are stored on disk. When reading in a file, the metadata need to be interpreted as well in order to know the __spatial information__. The translation from the data and metadata to a Python Nd-array with geographical context is done by the rasterio/xarray packages.\n",
    "\n",
    "As an quick introduction (we will learn the specific syntax later).\n",
    "\n",
    "> Plot of the Red band only, using a Red color scale_"
   ]
  },
  {
   "cell_type": "code",
   "execution_count": null,
   "metadata": {},
   "outputs": [],
   "source": [
    "ax = herstappe.sel(band=1).plot.imshow(cmap=\"Reds\", figsize=(12, 5))  #, robust=True)\n",
    "ax.axes.set_aspect('equal')"
   ]
  },
  {
   "cell_type": "markdown",
   "metadata": {},
   "source": [
    "> _plot the intersection of the data at x coordinate closest to 600000 for each band:_"
   ]
  },
  {
   "cell_type": "code",
   "execution_count": null,
   "metadata": {},
   "outputs": [],
   "source": [
    "herstappe.sel(x=600_000, method='nearest').plot.line(col='band')"
   ]
  },
  {
   "cell_type": "markdown",
   "metadata": {
    "deletable": true,
    "editable": true
   },
   "source": [
    "## What's a xarray.DataArray?"
   ]
  },
  {
   "cell_type": "markdown",
   "metadata": {},
   "source": [
    "Let's have a look at the data again:"
   ]
  },
  {
   "cell_type": "code",
   "execution_count": null,
   "metadata": {},
   "outputs": [],
   "source": [
    "herstappe"
   ]
  },
  {
   "cell_type": "markdown",
   "metadata": {},
   "source": [
    "The output of xarray is a bit different to what we've previous seen. Let's go through the different elements:\n",
    "\n",
    "- It is a `xarray.DataArray`, one of the main data types provided by xarray\n",
    "- It has 3 __dimensions__:\n",
    "    - `band`: 3 bands (in this case RGB)\n",
    "    - `y`: the y coordinates of the data set\n",
    "    - `x`: the x coordinates of the data set\n",
    "- Each of these dimensions are defined by a __coordinate__ (1D) array\n",
    "- It contains 304407 (227\\*447\\*3) data values (stored as float32)\n",
    "- Other metadata, such as the spatial information) provided by the `tiff` are stored in the __`Attributes`__\n",
    "\n",
    "Looking to the data itself (click on the icons on the right), we can see these are Numpy arrays..."
   ]
  },
  {
   "cell_type": "markdown",
   "metadata": {},
   "source": [
    "## Xarray adds (spatial) context to NumPy arrays"
   ]
  },
  {
   "cell_type": "markdown",
   "metadata": {},
   "source": [
    "Both the data values as the values of the coordinates are..."
   ]
  },
  {
   "cell_type": "code",
   "execution_count": null,
   "metadata": {},
   "outputs": [],
   "source": [
    "type(herstappe.values), type(herstappe.x.values), type(herstappe.y.values), type(herstappe.band.values)"
   ]
  },
  {
   "cell_type": "markdown",
   "metadata": {},
   "source": [
    "... all Numpy arrays! \n",
    "\n",
    "Numpy is on of the most fundamental parts of the scientific python 'ecosystem'. A lot of other packages - you already used Pandas and GeoPandas in this course, and now also xarray - are built on top of NumPy and the ndarray (n-dimensional array) object it provides."
   ]
  },
  {
   "cell_type": "markdown",
   "metadata": {},
   "source": [
    "When you read raster data using `xarray.open_dataarray` you are actually creating a set of Numpy arrays combined in a `xarray.DataArray` object. A Numpy array is an efficient data type to calculate with arrays in general. Let's extract the data of herstappe as an Numpy `ndarray`:"
   ]
  },
  {
   "cell_type": "code",
   "execution_count": null,
   "metadata": {},
   "outputs": [],
   "source": [
    "herstappe_array = herstappe.values"
   ]
  },
  {
   "cell_type": "code",
   "execution_count": null,
   "metadata": {},
   "outputs": [],
   "source": [
    "herstappe_array"
   ]
  },
  {
   "cell_type": "code",
   "execution_count": null,
   "metadata": {},
   "outputs": [],
   "source": [
    "type(herstappe_array), herstappe_array.dtype"
   ]
  },
  {
   "cell_type": "code",
   "execution_count": null,
   "metadata": {},
   "outputs": [],
   "source": [
    "type(herstappe.x.values), type(herstappe.y.values)"
   ]
  },
  {
   "cell_type": "markdown",
   "metadata": {},
   "source": [
    "NumPy supports different dtypes (float, int,...), but __all elements of an array do have the same dtype__. Note that NumPy auto-detects the data-type from the input. The data type of this specific array `herstappe_array` is float32. More information on the data types NumPy supports is available in the [documentation](https://numpy.org/devdocs/user/basics.types.html#array-types-and-conversions-between-types)."
   ]
  },
  {
   "cell_type": "markdown",
   "metadata": {},
   "source": [
    "Just as any other object in Python, the `ndarray` has a number of attributes. We already checked the `dtype` attribute. The `shape` and `ndim` of the array are other relevant attributes:"
   ]
  },
  {
   "cell_type": "code",
   "execution_count": null,
   "metadata": {},
   "outputs": [],
   "source": [
    "herstappe_array.shape, herstappe_array.ndim"
   ]
  },
  {
   "cell_type": "markdown",
   "metadata": {},
   "source": [
    "Hence, we have three bands with dimensions (227, 447) and data type float32. But with this single Numpy array, we do not have any spatial information on which area of the earth this data represents. We also need the `herstappe.x` and `herstappe.y` arrays to link the indidivual elements in the array with the corresponding earth coordinates and band. \n",
    "\n",
    "By using the `xarray.DataArray` to wrap and combine these NumPy arrays, we can keep the data and the spatial context together."
   ]
  },
  {
   "cell_type": "markdown",
   "metadata": {},
   "source": [
    "<div class=\"alert alert-info\" style=\"font-size:120%\">\n",
    "\n",
    "**REMEMBER**:\n",
    "\n",
    "The [`numpy` package](https://numpy.org/) is the backbone of the scientific Python ecosystem. The `ndarray` provides an efficient data type to store and manipulate raster data, but it does __NOT contain any spatial information__. \n",
    "    \n",
    "If we use `xarray.DataArray` to wrap this NumPy array, we can keep the data and the spatial context together.\n",
    "\n",
    "</div>"
   ]
  },
  {
   "cell_type": "markdown",
   "metadata": {
    "deletable": true,
    "editable": true,
    "tags": []
   },
   "source": [
    "## Raster data attributes - spatial context"
   ]
  },
  {
   "cell_type": "markdown",
   "metadata": {
    "deletable": true,
    "editable": true
   },
   "source": [
    "To quickly scan the spatial metadata of a Raster data file, let's use the [`gdalinfo` command](https://gdal.org/programs/gdalinfo.html#gdalinfo). \n",
    "\n",
    "> The `gdalinfo` command lists information about a raster dataset.\n",
    "\n",
    "It is not a Python command, but a program that need to be run from the terminal (aka command line). Using a small Jupyter notebook - `!` trick, we can use it within the notebook as well:"
   ]
  },
  {
   "cell_type": "code",
   "execution_count": null,
   "metadata": {
    "deletable": true,
    "editable": true,
    "jupyter": {
     "outputs_hidden": false
    }
   },
   "outputs": [],
   "source": [
    "!gdalinfo -mm ./data/herstappe/raster/2020-09-17_Sentinel_2_L1C_True_color.tiff"
   ]
  },
  {
   "cell_type": "markdown",
   "metadata": {
    "deletable": true,
    "editable": true
   },
   "source": [
    "Important information we get from the `gdalinfo` command are \n",
    "\n",
    "* Coordinate reference system (CRS), see also [02-coordinate-reference-systems notebook](./02-coordinate-reference-systems.ipynb).\n",
    "* Number of bands in the data set: A data set can contain one (single) or more (multi) layers (bands).\n",
    "* Spatial resolution: This resolution represents the area on the ground that each pixel covers. The units for your data are determined by the CRS above (e.g. meters).\n",
    "* Spatial extent (bounding box) of the data: The geographic area that the raster data covers.\n",
    "\n",
    "<img src=\"../img/raster-spatial-extent-coordinates.png\" alt=\"spatial-extnet\" style=\"width:500px;\"/>\n",
    "\n",
    "<small>_Image Source: National Ecological Observatory Network (NEON)._</small>"
   ]
  },
  {
   "cell_type": "markdown",
   "metadata": {
    "deletable": true,
    "editable": true
   },
   "source": [
    "Let's see how `xarray.open_dataarray` interprets this information:"
   ]
  },
  {
   "cell_type": "code",
   "execution_count": null,
   "metadata": {
    "deletable": true,
    "editable": true
   },
   "outputs": [],
   "source": [
    "herstappe = xr.open_dataarray(file_herstappe, engine=\"rasterio\")\n",
    "herstappe"
   ]
  },
  {
   "cell_type": "markdown",
   "metadata": {},
   "source": [
    "- Coordinate reference system (CRS) stored as attribute to the `xr.DataArray` `rio` accessor:"
   ]
  },
  {
   "cell_type": "code",
   "execution_count": null,
   "metadata": {
    "deletable": true,
    "editable": true,
    "jupyter": {
     "outputs_hidden": false
    }
   },
   "outputs": [],
   "source": [
    "herstappe.rio.crs"
   ]
  },
  {
   "cell_type": "code",
   "execution_count": null,
   "metadata": {},
   "outputs": [],
   "source": [
    "type(herstappe.rio.crs) # herstappe.rio.crs.to_string(), # herstappe.rio.crs.to_wkt()"
   ]
  },
  {
   "cell_type": "markdown",
   "metadata": {},
   "source": [
    "- Number of bands in the data set. Each band in the original data set is represented in the `band` dimension:"
   ]
  },
  {
   "cell_type": "code",
   "execution_count": null,
   "metadata": {},
   "outputs": [],
   "source": [
    "herstappe.band"
   ]
  },
  {
   "cell_type": "markdown",
   "metadata": {},
   "source": [
    "- Spatial resolution: This resolution represents the area on the ground that each pixel covers. It is available with the `rio`  accessor, but also translated to the coordinates dimensions x and y as the distance between two elements:"
   ]
  },
  {
   "cell_type": "code",
   "execution_count": null,
   "metadata": {},
   "outputs": [],
   "source": [
    "herstappe.rio.resolution()"
   ]
  },
  {
   "cell_type": "code",
   "execution_count": null,
   "metadata": {},
   "outputs": [],
   "source": [
    "herstappe.x[1] - herstappe.x[0], herstappe.y[1] - herstappe.y[0]"
   ]
  },
  {
   "cell_type": "markdown",
   "metadata": {},
   "source": [
    "- Spatial extent (bounding box) of the data. [Xarray translates](https://corteva.github.io/rioxarray/stable/getting_started/getting_started.html) the the coordinates info and spatial extent:\n",
    "\n",
    "    >  The x and y coordinates are generated automatically from the file’s geoinformation, shifted to the center of each pixel.\n",
    "    \n",
    "Hence, the minimal and maximum values of the coordinates are still the same as the boundaries defined by the metadata:"
   ]
  },
  {
   "cell_type": "code",
   "execution_count": null,
   "metadata": {},
   "outputs": [],
   "source": [
    "herstappe.rio.bounds()"
   ]
  },
  {
   "cell_type": "code",
   "execution_count": null,
   "metadata": {},
   "outputs": [],
   "source": [
    "herstappe.x.min(), herstappe.x.max(), herstappe.y.min(), herstappe.y.max()"
   ]
  },
  {
   "cell_type": "markdown",
   "metadata": {},
   "source": [
    "<div class=\"alert alert-info\" style=\"font-size:120%\">\n",
    "\n",
    "**TIP**: <br>\n",
    "\n",
    "The [`gdal` library](https://gdal.org/) is a very powerful set of functions. It is the\n",
    "open source Swiss Army knife for raster and vector geospatial data handling. GDAL provides Python bindings to run it from Python code, but these are not very 'Pythonic'. When familiar with the command line the [command line raster functions](https://gdal.org/programs/index.html#raster-programs) (CLI) are certainly worthwhile to check out!\n",
    "    \n",
    "You can run a CLI command inside a Jupyter Notebook by prefixing it with the `!` character.\n",
    "\n",
    "</div>"
   ]
  }
 ],
 "metadata": {
  "celltoolbar": "Nbtutor - export exercises",
  "jupytext": {
   "cell_metadata_filter": "-run_control,-deletable,-editable,-jupyter,-slideshow"
  },
  "kernelspec": {
   "display_name": "Python 3 (ipykernel)",
   "language": "python",
   "name": "python3"
  },
  "language_info": {
   "codemirror_mode": {
    "name": "ipython",
    "version": 3
   },
   "file_extension": ".py",
   "mimetype": "text/x-python",
   "name": "python",
   "nbconvert_exporter": "python",
   "pygments_lexer": "ipython3",
   "version": "3.10.6"
  }
 },
 "nbformat": 4,
 "nbformat_minor": 4
}
