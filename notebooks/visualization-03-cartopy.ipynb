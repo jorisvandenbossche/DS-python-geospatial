{
 "cells": [
  {
   "cell_type": "markdown",
   "metadata": {},
   "source": [
    "<p><font size=\"6\"><b>Creating maps with Cartopy</b></font></p>\n",
    "\n",
    "\n",
    "> *DS Python for GIS and Geoscience*  \n",
    "> *October, 2020*\n",
    ">\n",
    "> *© 2020, Joris Van den Bossche and Stijn Van Hoey. Licensed under [CC BY-SA 4.0 Creative Commons](https://creativecommons.org/licenses/by-sa/4.0/)* Adapted from material from Phil Elson and Ryan Abernathey (see below).\n",
    "\n",
    "---\n",
    "\n",
    "# Maps in Scientific Python\n",
    "\n",
    "Making maps is a fundamental part of GIS and geoscience research.\n",
    "Maps differ from regular figures in the following principle ways:\n",
    "\n",
    "- Maps require a *projection* of geographic coordinates on the 3D Earth to the 2D space of your figure.\n",
    "- Maps often include extra decorations besides just our data (e.g. continents, country borders, etc.)\n",
    "\n",
    "The maps we have made up to now, for example using the GeoPandas `plot()` method, assume the data can be plotted as is on the figure. This works fine if your data is already in projected coordinates, and has a limited extent (small study area). When mapping data of a larger area of the full globe, properly taking into account the projection becomes much more important!\n",
    "\n",
    "In this notebook, we will learn about [Cartopy](https://scitools.org.uk/cartopy/docs/latest/), one of the most common packages for making maps within python.\n",
    "\n",
    "### Credit: Phil Elson and Ryan Abernathey\n",
    "\n",
    "Lots of the material in this notebook was adopted from https://earth-env-data-science.github.io/intro.html by Ryan Abernathey, which itself was adopted from [Phil Elson](https://pelson.github.io/)'s excellent [Cartopy Tutorial](https://github.com/SciTools/cartopy-tutorial). Phil is the creator of Cartopy and published his tutorial under an [open license](http://www.nationalarchives.gov.uk/doc/open-government-licence/version/3/), meaning that we can copy, adapt, and redistribute it as long as we give proper attribution. **THANKS PHIL AND RYAN!** 👏👏👏"
   ]
  },
  {
   "cell_type": "markdown",
   "metadata": {},
   "source": [
    "## Background: Projections"
   ]
  },
  {
   "cell_type": "markdown",
   "metadata": {},
   "source": [
    "### Most of our media for visualization *are* flat\n",
    "\n",
    "Our two most common media are flat:\n",
    "\n",
    " * Paper\n",
    " * Screen\n",
    "\n",
    "![](https://raw.githubusercontent.com/SciTools/cartopy-tutorial/master/static/flat_medium.jpg)\n",
    "\n",
    "### [Map] Projections: Taking us from spherical to flat\n",
    "\n",
    "A map projection (or more commonly refered to as just \"projection\") is:\n",
    "\n",
    "> a systematic transformation of the latitudes and longitudes of locations from the surface of a sphere or an ellipsoid into locations on a plane. [[Wikipedia: Map projection](https://en.wikipedia.org/wiki/Map_projection)].\n",
    "\n",
    "### The major problem with map projections\n",
    "\n",
    "![orange peel](https://raw.githubusercontent.com/SciTools/cartopy-tutorial/master/static/orange_peel.jpg)\n",
    "\n",
    " * The surface of a sphere is topologically different to a 2D surface, therefore we *have* to cut the sphere *somewhere*\n",
    " * A sphere's surface cannot be represented on a plane without distortion.\n",
    " \n",
    "There are many different ways to make a projection, and we will not attempt to explain all of the choices and tradeoffs here. Instead, you can read Phil's [original tutorial](https://github.com/SciTools/cartopy-tutorial/blob/master/tutorial/projections_crs_and_terms.ipynb) for a great overview of this topic.\n",
    "Instead, we will dive into the more practical sides of Caropy usage."
   ]
  },
  {
   "cell_type": "markdown",
   "metadata": {},
   "source": [
    "## Introducing Cartopy\n",
    "\n",
    "https://scitools.org.uk/cartopy/docs/latest/\n",
    "\n",
    "Cartopy makes use of the powerful [PROJ.4](https://proj4.org/), numpy and shapely libraries and includes a programatic interface built on top of Matplotlib for the creation of publication quality maps.\n",
    "\n",
    "Key features of cartopy are its object oriented projection definitions, and its ability to transform points, lines, vectors, polygons and images between those projections.\n",
    "\n",
    "### Cartopy Projections and other reference systems\n",
    "\n",
    "In Cartopy, each projection is a class.\n",
    "Most classes of projection can be configured in projection-specific ways, although Cartopy takes an opinionated stance on sensible defaults.\n",
    "\n",
    "Let's create a Plate Carree projection instance.\n",
    "\n",
    "To do so, we need cartopy's crs module. This is typically imported as ``ccrs`` (Cartopy Coordinate Reference Systems)."
   ]
  },
  {
   "cell_type": "code",
   "execution_count": null,
   "metadata": {},
   "outputs": [],
   "source": [
    "import cartopy.crs as ccrs\n",
    "import cartopy"
   ]
  },
  {
   "cell_type": "markdown",
   "metadata": {},
   "source": [
    "Cartopy's projection list tells us that the Plate Carree projection is available with the ``ccrs.PlateCarree`` class: https://scitools.org.uk/cartopy/docs/latest/crs/projections.html\n",
    "\n",
    "**Note:** we need to *instantiate* the class in order to do anything projection-y with it!"
   ]
  },
  {
   "cell_type": "code",
   "execution_count": null,
   "metadata": {},
   "outputs": [],
   "source": [
    "ccrs.PlateCarree()"
   ]
  },
  {
   "cell_type": "markdown",
   "metadata": {},
   "source": [
    "### Drawing a map\n",
    "\n",
    "Cartopy optionally depends upon matplotlib, and each projection knows how to create a matplotlib Axes (or AxesSubplot) that can represent itself.\n",
    "\n",
    "The Axes that the projection creates is a [cartopy.mpl.geoaxes.GeoAxes](https://scitools.org.uk/cartopy/docs/latest/matplotlib/geoaxes.html#cartopy.mpl.geoaxes.GeoAxes). This Axes subclass overrides some of matplotlib's existing methods, and adds a number of extremely useful ones for drawing maps:"
   ]
  },
  {
   "cell_type": "code",
   "execution_count": null,
   "metadata": {},
   "outputs": [],
   "source": [
    "import matplotlib.pyplot as plt\n",
    "\n",
    "fig, ax = plt.subplots(subplot_kw={'projection': ccrs.PlateCarree()})\n",
    "ax"
   ]
  },
  {
   "cell_type": "markdown",
   "metadata": {},
   "source": [
    "That was a little underwhelming, but we can see that the Axes created is indeed one of those GeoAxes[Subplot] instances.\n",
    "\n",
    "One of the most useful methods that this class adds on top of the standard matplotlib Axes class is the ``coastlines`` method. With no arguments, it will add the Natural Earth ``1:110,000,000`` scale coastline data to the map."
   ]
  },
  {
   "cell_type": "code",
   "execution_count": null,
   "metadata": {},
   "outputs": [],
   "source": [
    "fig, ax = plt.subplots(subplot_kw={'projection': ccrs.PlateCarree()})\n",
    "ax.coastlines()"
   ]
  },
  {
   "cell_type": "markdown",
   "metadata": {},
   "source": [
    "Projection classes have options we can use to customize the map"
   ]
  },
  {
   "cell_type": "code",
   "execution_count": null,
   "metadata": {},
   "outputs": [],
   "source": [
    "ccrs.PlateCarree?"
   ]
  },
  {
   "cell_type": "code",
   "execution_count": null,
   "metadata": {},
   "outputs": [],
   "source": [
    "fig, ax = plt.subplots(subplot_kw={'projection': ccrs.PlateCarree(central_longitude=180)})\n",
    "ax.coastlines()"
   ]
  },
  {
   "cell_type": "markdown",
   "metadata": {},
   "source": [
    "### Useful methods of a GeoAxes\n",
    "\n",
    "The [cartopy.mpl.geoaxes.GeoAxes](https://scitools.org.uk/cartopy/docs/latest/matplotlib/geoaxes.html#cartopy.mpl.geoaxes.GeoAxes) class adds a number of useful methods.\n",
    "\n",
    "Let's take a look at:\n",
    "\n",
    " * [set_global](https://scitools.org.uk/cartopy/docs/latest/matplotlib/geoaxes.html#cartopy.mpl.geoaxes.GeoAxes.set_global) - zoom the map out as much as possible\n",
    " * [set_extent](https://scitools.org.uk/cartopy/docs/latest/matplotlib/geoaxes.html#cartopy.mpl.geoaxes.GeoAxes.set_extent) - zoom the map to the given bounding box\n",
    " \n",
    "\n",
    " * [gridlines](https://scitools.org.uk/cartopy/docs/latest/matplotlib/geoaxes.html#cartopy.mpl.geoaxes.GeoAxes.graticule) - add a graticule (and optionally labels) to the axes\n",
    " * [coastlines](https://scitools.org.uk/cartopy/docs/latest/matplotlib/geoaxes.html#cartopy.mpl.geoaxes.GeoAxes.coastlines) - add Natural Earth coastlines to the axes\n",
    " * [stock_img](https://scitools.org.uk/cartopy/docs/latest/matplotlib/geoaxes.html#cartopy.mpl.geoaxes.GeoAxes.stock_img) - add a low-resolution Natural Earth background image to the axes\n",
    " \n",
    " \n",
    " * [imshow](https://matplotlib.org/api/_as_gen/matplotlib.axes.Axes.imshow.html#matplotlib.axes.Axes.imshow) - add an image (numpy array) to the axes\n",
    " * [add_geometries](https://scitools.org.uk/cartopy/docs/latest/matplotlib/geoaxes.html#cartopy.mpl.geoaxes.GeoAxes.add_geometries) - add a collection of geometries (Shapely / GeoPandas) to the axes\n",
    " \n",
    "### Some More Examples of Different Global Projections"
   ]
  },
  {
   "cell_type": "code",
   "execution_count": null,
   "metadata": {},
   "outputs": [],
   "source": [
    "projections = [ccrs.PlateCarree(),\n",
    "               ccrs.Robinson(),\n",
    "               ccrs.Mercator(),\n",
    "               ccrs.Orthographic(),\n",
    "               ccrs.InterruptedGoodeHomolosine()\n",
    "              ]\n",
    "\n",
    "\n",
    "for proj in projections:\n",
    "    fig, ax = plt.subplots(subplot_kw={'projection': proj})\n",
    "    ax.stock_img()\n",
    "    ax.coastlines()\n",
    "    ax.set_title(f'{type(proj)}')"
   ]
  },
  {
   "cell_type": "markdown",
   "metadata": {},
   "source": [
    "### Regional Maps\n",
    "\n",
    "To create a regional map, we use the `set_extent` method of GeoAxis to limit the size of the region."
   ]
  },
  {
   "cell_type": "code",
   "execution_count": null,
   "metadata": {},
   "outputs": [],
   "source": [
    "ax.set_extent?"
   ]
  },
  {
   "cell_type": "code",
   "execution_count": null,
   "metadata": {},
   "outputs": [],
   "source": [
    "central_lon, central_lat = -10, 45\n",
    "extent = [-40, 20, 30, 60]\n",
    "fig, ax = plt.subplots(subplot_kw={'projection': ccrs.Orthographic(central_lon, central_lat)})\n",
    "ax.set_extent(extent)\n",
    "ax.gridlines()\n",
    "ax.coastlines(resolution='50m')"
   ]
  },
  {
   "cell_type": "markdown",
   "metadata": {},
   "source": [
    "## Adding features to the map\n",
    "\n",
    "To give our map more styles and details, we add `cartopy.feature` objects.\n",
    "Many useful features are built in. These \"default features\" are at coarse (110m) resolution.\n",
    "\n",
    "Name | Description\n",
    "-----|------------\n",
    "`cartopy.feature.BORDERS` | Country boundaries\n",
    "`cartopy.feature.COASTLINE` | Coastline, including major islands\n",
    "`cartopy.feature.LAKES` | Natural and artificial lakes\n",
    "`cartopy.feature.LAND` | Land polygons, including major islands\n",
    "`cartopy.feature.OCEAN` | Ocean polygons\n",
    "`cartopy.feature.RIVERS` | Single-line drainages, including lake centerlines\n",
    "`cartopy.feature.STATES` | (limited to the United States at this scale)\n",
    "\n",
    "Below we illustrate these features in a customized map of North America."
   ]
  },
  {
   "cell_type": "code",
   "execution_count": null,
   "metadata": {},
   "outputs": [],
   "source": [
    "import cartopy.feature as cfeature\n",
    "import numpy as np\n",
    "\n",
    "central_lat = 37.5\n",
    "central_lon = -96\n",
    "extent = [-120, -70, 24, 50.5]\n",
    "central_lon = np.mean(extent[:2])\n",
    "central_lat = np.mean(extent[2:])\n",
    "\n",
    "plt.figure(figsize=(12, 6))\n",
    "ax = plt.axes(projection=ccrs.AlbersEqualArea(central_lon, central_lat))\n",
    "ax.set_extent(extent)\n",
    "\n",
    "ax.add_feature(cartopy.feature.OCEAN)\n",
    "ax.add_feature(cartopy.feature.LAND, edgecolor='black')\n",
    "ax.add_feature(cartopy.feature.LAKES, edgecolor='black')\n",
    "ax.add_feature(cartopy.feature.RIVERS)\n",
    "ax.gridlines()"
   ]
  },
  {
   "cell_type": "markdown",
   "metadata": {},
   "source": [
    "If we want higher-resolution features, Cartopy can automatically download and create them from the [Natural Earth Data](http://www.naturalearthdata.com/) database or the [GSHHS dataset](https://www.ngdc.noaa.gov/mgg/shorelines/gshhs.html) database."
   ]
  },
  {
   "cell_type": "markdown",
   "metadata": {},
   "source": [
    "## Adding vector data to the map\n",
    "\n",
    "You will typically have your own data to add to a map, of course. To add vector data, we can add single Shapely geometries with `ax.add_geometries()`, or combine with GeoPandas.\n",
    "\n",
    "The GeoPandas `plot()` method works *if*:\n",
    "\n",
    "* you pass the GeoAxes object to the `ax=` keyword\n",
    "* the data is in the same CRS as the cartopy projection OR you specify the corresponding `transform=` in the `plot()` method."
   ]
  },
  {
   "cell_type": "code",
   "execution_count": null,
   "metadata": {},
   "outputs": [],
   "source": [
    "import geopandas\n",
    "cities = geopandas.read_file(\"zip://./data/ne_110m_populated_places.zip\")"
   ]
  },
  {
   "cell_type": "code",
   "execution_count": null,
   "metadata": {},
   "outputs": [],
   "source": [
    "proj = ccrs.AlbersEqualArea()\n",
    "\n",
    "fig, ax = plt.subplots(figsize=(10, 10), subplot_kw={'projection': proj})\n",
    "# Reproject the cities dataset to the corresponding CRS of the cartopy projection\n",
    "cities_albers = cities.to_crs(proj.proj4_init)\n",
    "cities_albers.plot(ax=ax)\n",
    "ax.coastlines()\n",
    "ax.set_global()\n",
    "ax.gridlines(draw_labels=True)"
   ]
  },
  {
   "cell_type": "code",
   "execution_count": null,
   "metadata": {},
   "outputs": [],
   "source": [
    "proj = ccrs.AlbersEqualArea()\n",
    "\n",
    "fig, ax = plt.subplots(figsize=(10, 10), subplot_kw={'projection': proj})\n",
    "# cities is in geographic lat/lon data, so we can specify PlateCarree as the cartopy equivalent\n",
    "cities.plot(ax=ax, transform=ccrs.PlateCarree())\n",
    "ax.coastlines()\n",
    "ax.set_global()\n",
    "ax.gridlines(draw_labels=True)"
   ]
  },
  {
   "cell_type": "markdown",
   "metadata": {},
   "source": [
    "Or we can also plot specific points:"
   ]
  },
  {
   "cell_type": "code",
   "execution_count": null,
   "metadata": {},
   "outputs": [],
   "source": [
    "proj = ccrs.AlbersEqualArea()\n",
    "\n",
    "fig, ax = plt.subplots(figsize=(10, 10), subplot_kw={'projection': proj})\n",
    "ax.plot(0, 0, marker='o', color='red', markersize=12, transform=ccrs.PlateCarree())\n",
    "ax.coastlines()\n",
    "ax.set_global()\n",
    "ax.gridlines()"
   ]
  },
  {
   "cell_type": "markdown",
   "metadata": {},
   "source": [
    "Because our map is a matplotlib axis, we can use all the familiar maptplotlib commands to make plots.\n",
    "By default, the map extent will be adjusted to match the data. We can override this with the `.set_global` or `.set_extent` commands.\n",
    "\n",
    "Another example to show the difference of adding a transform or not:"
   ]
  },
  {
   "cell_type": "code",
   "execution_count": null,
   "metadata": {},
   "outputs": [],
   "source": [
    "# create some test data\n",
    "new_york = dict(lon=-74.0060, lat=40.7128)\n",
    "honolulu = dict(lon=-157.8583, lat=21.3069)\n",
    "lons = [new_york['lon'], honolulu['lon']]\n",
    "lats = [new_york['lat'], honolulu['lat']]"
   ]
  },
  {
   "cell_type": "markdown",
   "metadata": {},
   "source": [
    "Key point: **the data also have to be transformed to the projection space**.\n",
    "This is done via the `transform=` keyword in the plotting method. The argument is another `cartopy.crs` object.\n",
    "If you don't specify a transform, Cartopy assume that the data is using the same projection as the underlying GeoAxis.\n",
    "\n",
    "From the [Cartopy Documentation](https://scitools.org.uk/cartopy/docs/latest/tutorials/understanding_transform.html)\n",
    "\n",
    "> The core concept is that the projection of your axes is independent of the coordinate system your data is defined in. The `projection` argument is used when creating plots and determines the projection of the resulting plot (i.e. what the plot looks like). The `transform` argument to plotting functions tells Cartopy what coordinate system your data are defined in."
   ]
  },
  {
   "cell_type": "code",
   "execution_count": null,
   "metadata": {},
   "outputs": [],
   "source": [
    "fig, ax = plt.subplots(subplot_kw={'projection': ccrs.PlateCarree()})\n",
    "ax.plot(lons, lats, label='Equirectangular straight line')\n",
    "ax.plot(lons, lats, label='Great Circle', transform=ccrs.Geodetic())\n",
    "ax.coastlines()\n",
    "ax.legend()\n",
    "ax.set_global()"
   ]
  },
  {
   "cell_type": "markdown",
   "metadata": {},
   "source": [
    "## Adding raster data to the map\n",
    "\n",
    "The same principles apply to 2D data. Below we create some example data defined in regular lat / lon coordinates."
   ]
  },
  {
   "cell_type": "code",
   "execution_count": null,
   "metadata": {},
   "outputs": [],
   "source": [
    "import numpy as np\n",
    "lon = np.linspace(-80, 80, 25)\n",
    "lat = np.linspace(30, 70, 25)\n",
    "lon2d, lat2d = np.meshgrid(lon, lat)\n",
    "data = np.cos(np.deg2rad(lat2d) * 4) + np.sin(np.deg2rad(lon2d) * 4)\n",
    "plt.contourf(lon2d, lat2d, data)"
   ]
  },
  {
   "cell_type": "markdown",
   "metadata": {},
   "source": [
    "Now we create a `PlateCarree` projection and plot the data on it without any `transform` keyword.\n",
    "This happens to work because `PlateCarree` is the simplest projection of lat / lon data."
   ]
  },
  {
   "cell_type": "code",
   "execution_count": null,
   "metadata": {},
   "outputs": [],
   "source": [
    "fig, ax = plt.subplots(subplot_kw={'projection': ccrs.PlateCarree()})\n",
    "ax.set_global()\n",
    "ax.coastlines()\n",
    "ax.contourf(lon, lat, data)"
   ]
  },
  {
   "cell_type": "markdown",
   "metadata": {},
   "source": [
    "However, if we try the same thing with a different projection, we get the wrong result."
   ]
  },
  {
   "cell_type": "code",
   "execution_count": null,
   "metadata": {},
   "outputs": [],
   "source": [
    "projection = ccrs.RotatedPole(pole_longitude=-177.5, pole_latitude=37.5)\n",
    "fig, ax = plt.subplots(subplot_kw={'projection': projection})\n",
    "ax.set_global()\n",
    "ax.coastlines()\n",
    "ax.contourf(lon, lat, data)"
   ]
  },
  {
   "cell_type": "markdown",
   "metadata": {},
   "source": [
    "To fix this, we need to pass the correct transform argument to `contourf`:"
   ]
  },
  {
   "cell_type": "code",
   "execution_count": null,
   "metadata": {},
   "outputs": [],
   "source": [
    "projection = ccrs.RotatedPole(pole_longitude=-177.5, pole_latitude=37.5)\n",
    "fig, ax = plt.subplots(subplot_kw={'projection': projection})\n",
    "ax.set_global()\n",
    "ax.coastlines()\n",
    "ax.contourf(lon, lat, data, transform=ccrs.PlateCarree())"
   ]
  },
  {
   "cell_type": "markdown",
   "metadata": {},
   "source": [
    "### Showing Images\n",
    "\n",
    "We can plot a satellite image easily on a map if we know its extent"
   ]
  },
  {
   "cell_type": "code",
   "execution_count": null,
   "metadata": {},
   "outputs": [],
   "source": [
    "! wget https://github.com/mapbox/rasterio/raw/master/tests/data/RGB.byte.tif"
   ]
  },
  {
   "cell_type": "code",
   "execution_count": null,
   "metadata": {},
   "outputs": [],
   "source": [
    "import rasterio\n",
    "import rasterio.plot"
   ]
  },
  {
   "cell_type": "code",
   "execution_count": null,
   "metadata": {},
   "outputs": [],
   "source": [
    "with rasterio.open('RGB.byte.tif') as src:\n",
    "    img_extent = rasterio.plot.plotting_extent(src)\n",
    "    img = src.read()\n",
    "    print(src.meta)\n",
    "\n",
    "img = rasterio.plot.reshape_as_image(img)"
   ]
  },
  {
   "cell_type": "code",
   "execution_count": null,
   "metadata": {},
   "outputs": [],
   "source": [
    "proj = ccrs.UTM(zone=18, southern_hemisphere=False)"
   ]
  },
  {
   "cell_type": "code",
   "execution_count": null,
   "metadata": {},
   "outputs": [],
   "source": [
    "proj"
   ]
  },
  {
   "cell_type": "code",
   "execution_count": null,
   "metadata": {},
   "outputs": [],
   "source": [
    "fig, ax = plt.subplots(figsize=(8, 12), subplot_kw={'projection': proj})\n",
    "\n",
    "ax.imshow(img, extent=img_extent, transform=proj)\n",
    "ax.coastlines(resolution='10m', color='red', linewidth=1)"
   ]
  },
  {
   "cell_type": "markdown",
   "metadata": {},
   "source": [
    "## Xarray Integration\n",
    "\n",
    "Cartopy transforms can be passed to xarray! This creates a very quick path for creating professional looking maps from netCDF data."
   ]
  },
  {
   "cell_type": "code",
   "execution_count": null,
   "metadata": {},
   "outputs": [],
   "source": [
    "import xarray as xr\n",
    "url = 'http://www.esrl.noaa.gov/psd/thredds/dodsC/Datasets/noaa.ersst.v5/sst.mnmean.nc'\n",
    "ds = xr.open_dataset(url, drop_variables=['time_bnds'])\n",
    "ds"
   ]
  },
  {
   "cell_type": "code",
   "execution_count": null,
   "metadata": {},
   "outputs": [],
   "source": [
    "sst = ds.sst.sel(time='2000-01-01', method='nearest')\n",
    "fig = plt.figure(figsize=(9,6))\n",
    "ax = plt.axes(projection=ccrs.Robinson())\n",
    "ax.coastlines()\n",
    "ax.gridlines()\n",
    "sst.plot(ax=ax, transform=ccrs.PlateCarree(),\n",
    "         vmin=2, vmax=30, cbar_kwargs={'shrink': 0.4})"
   ]
  },
  {
   "cell_type": "markdown",
   "metadata": {},
   "source": [
    "## Doing More\n",
    "\n",
    "Browse the [Cartopy Gallery](https://scitools.org.uk/cartopy/docs/latest/gallery/index.html) to learn about all the different types of data and plotting methods available!"
   ]
  },
  {
   "cell_type": "code",
   "execution_count": null,
   "metadata": {},
   "outputs": [],
   "source": []
  }
 ],
 "metadata": {
  "kernelspec": {
   "display_name": "Python 3",
   "language": "python",
   "name": "python3"
  },
  "language_info": {
   "codemirror_mode": {
    "name": "ipython",
    "version": 3
   },
   "file_extension": ".py",
   "mimetype": "text/x-python",
   "name": "python",
   "nbconvert_exporter": "python",
   "pygments_lexer": "ipython3",
   "version": "3.8.5"
  }
 },
 "nbformat": 4,
 "nbformat_minor": 4
}
